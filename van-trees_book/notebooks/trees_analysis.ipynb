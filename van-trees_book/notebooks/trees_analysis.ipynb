{
 "cells": [
  {
   "cell_type": "markdown",
   "id": "2a324d2c-28dd-4b81-9d94-5959299ad830",
   "metadata": {},
   "source": [
    "# Analysis"
   ]
  },
  {
   "cell_type": "markdown",
   "id": "874c7bc3",
   "metadata": {},
   "source": [
    "### Data Imports"
   ]
  },
  {
   "cell_type": "code",
   "execution_count": 1,
   "id": "ee430110",
   "metadata": {},
   "outputs": [
    {
     "data": {
      "text/plain": [
       "DataTransformerRegistry.enable('data_server')"
      ]
     },
     "execution_count": 1,
     "metadata": {},
     "output_type": "execute_result"
    }
   ],
   "source": [
    "# Import necessary modules\n",
    "import pandas as pd\n",
    "import altair as alt\n",
    "from myst_nb import glue\n",
    "\n",
    "# Enable data server\n",
    "alt.data_transformers.enable('data_server')"
   ]
  },
  {
   "cell_type": "code",
   "execution_count": 2,
   "id": "9ad0b469",
   "metadata": {},
   "outputs": [],
   "source": [
    "# Data URLs\n",
    "url_vancouver_trees='https://raw.githubusercontent.com/UBC-MDS/exploratory-data-viz/main/data/vancouver_trees.csv'\n",
    "url_geojson = 'https://raw.githubusercontent.com/UBC-MDS/exploratory-data-viz/main/data/local-area-boundary.geojson'\n",
    "url_neighbourhood_demographics = 'https://raw.githubusercontent.com/Daniel-J-Stevens/data-science-toolbox_assignment-8/main/van-trees_book/data/neighbourhood_demographics.csv'\n",
    "\n",
    "# Convert to TOPO json ** Code taken from \"Map Help for Final Project\" document **\n",
    "data_geojson_remote = alt.Data(url=url_geojson, format=alt.DataFormat(property='features',type='json'))"
   ]
  },
  {
   "cell_type": "code",
   "execution_count": 3,
   "id": "033ba678",
   "metadata": {
    "scrolled": true
   },
   "outputs": [],
   "source": [
    "# Import as pandas dataframe\n",
    "trees_df = pd.read_csv(url_vancouver_trees)"
   ]
  },
  {
   "cell_type": "markdown",
   "id": "23a2af16",
   "metadata": {},
   "source": [
    "### Data Summary"
   ]
  },
  {
   "cell_type": "code",
   "execution_count": 4,
   "id": "9cc89da2",
   "metadata": {
    "tags": [
     "hide-input"
    ]
   },
   "outputs": [
    {
     "name": "stdout",
     "output_type": "stream",
     "text": [
      "<class 'pandas.core.frame.DataFrame'>\n",
      "RangeIndex: 30000 entries, 0 to 29999\n",
      "Data columns (total 20 columns):\n",
      " #   Column              Non-Null Count  Dtype  \n",
      "---  ------              --------------  -----  \n",
      " 0   std_street          30000 non-null  object \n",
      " 1   on_street           30000 non-null  object \n",
      " 2   species_name        30000 non-null  object \n",
      " 3   neighbourhood_name  30000 non-null  object \n",
      " 4   date_planted        14085 non-null  object \n",
      " 5   diameter            30000 non-null  float64\n",
      " 6   street_side_name    30000 non-null  object \n",
      " 7   genus_name          30000 non-null  object \n",
      " 8   assigned            30000 non-null  object \n",
      " 9   civic_number        30000 non-null  int64  \n",
      " 10  plant_area          29722 non-null  object \n",
      " 11  curb                30000 non-null  object \n",
      " 12  tree_id             30000 non-null  int64  \n",
      " 13  common_name         30000 non-null  object \n",
      " 14  height_range_id     30000 non-null  int64  \n",
      " 15  on_street_block     30000 non-null  int64  \n",
      " 16  cultivar_name       16178 non-null  object \n",
      " 17  root_barrier        30000 non-null  object \n",
      " 18  latitude            30000 non-null  float64\n",
      " 19  longitude           30000 non-null  float64\n",
      "dtypes: float64(3), int64(4), object(13)\n",
      "memory usage: 4.6+ MB\n"
     ]
    }
   ],
   "source": [
    "trees_df.info()"
   ]
  },
  {
   "cell_type": "code",
   "execution_count": 5,
   "id": "0dfaaa03",
   "metadata": {},
   "outputs": [
    {
     "data": {
      "text/plain": [
       "30000"
      ]
     },
     "execution_count": 5,
     "metadata": {},
     "output_type": "execute_result"
    }
   ],
   "source": [
    "trees_df.loc[:,'tree_id'].nunique()"
   ]
  },
  {
   "cell_type": "markdown",
   "id": "7106bfc1",
   "metadata": {},
   "source": [
    "The `trees_df` dataframe consists of 30,000 rows, each representing a unique Vancouver street tree, and 21 columns of various dtypes including float, integer and object, each representing a different tree variable. Variable data types range from categorical (e.g. `genus_name`), quantitative (e.g. `diameter`), ordinal (e.g. `height_range_id`), temporal (e.g. `date_planted`) and spatial (e.g. `latitude`, `longitude`). There are missing values in the `date_planted`, `plant_area` and `cultivar_name` columns."
   ]
  },
  {
   "cell_type": "code",
   "execution_count": 6,
   "id": "730dbe09",
   "metadata": {
    "scrolled": true,
    "tags": [
     "hide-input"
    ]
   },
   "outputs": [
    {
     "data": {
      "application/papermill.record/text/html": "<div>\n<style scoped>\n    .dataframe tbody tr th:only-of-type {\n        vertical-align: middle;\n    }\n\n    .dataframe tbody tr th {\n        vertical-align: top;\n    }\n\n    .dataframe thead th {\n        text-align: right;\n    }\n</style>\n<table border=\"1\" class=\"dataframe\">\n  <thead>\n    <tr style=\"text-align: right;\">\n      <th></th>\n      <th>diameter</th>\n      <th>civic_number</th>\n      <th>tree_id</th>\n      <th>height_range_id</th>\n      <th>on_street_block</th>\n      <th>latitude</th>\n      <th>longitude</th>\n    </tr>\n  </thead>\n  <tbody>\n    <tr>\n      <th>count</th>\n      <td>30000.000000</td>\n      <td>30000.000000</td>\n      <td>30000.000000</td>\n      <td>30000.000000</td>\n      <td>30000.000000</td>\n      <td>30000.000000</td>\n      <td>30000.000000</td>\n    </tr>\n    <tr>\n      <th>mean</th>\n      <td>12.204926</td>\n      <td>2974.397233</td>\n      <td>128252.088500</td>\n      <td>2.717967</td>\n      <td>2948.410767</td>\n      <td>49.247574</td>\n      <td>-123.106173</td>\n    </tr>\n    <tr>\n      <th>std</th>\n      <td>9.334234</td>\n      <td>2068.223585</td>\n      <td>75099.139102</td>\n      <td>1.555819</td>\n      <td>2069.837551</td>\n      <td>0.021178</td>\n      <td>0.049450</td>\n    </tr>\n    <tr>\n      <th>min</th>\n      <td>0.000000</td>\n      <td>0.000000</td>\n      <td>29.000000</td>\n      <td>0.000000</td>\n      <td>0.000000</td>\n      <td>49.200732</td>\n      <td>-123.223870</td>\n    </tr>\n    <tr>\n      <th>25%</th>\n      <td>4.250000</td>\n      <td>1319.000000</td>\n      <td>62110.250000</td>\n      <td>2.000000</td>\n      <td>1300.000000</td>\n      <td>49.230519</td>\n      <td>-123.144596</td>\n    </tr>\n    <tr>\n      <th>50%</th>\n      <td>10.000000</td>\n      <td>2646.000000</td>\n      <td>129058.000000</td>\n      <td>2.000000</td>\n      <td>2600.000000</td>\n      <td>49.248200</td>\n      <td>-123.104022</td>\n    </tr>\n    <tr>\n      <th>75%</th>\n      <td>17.250000</td>\n      <td>4063.250000</td>\n      <td>190963.750000</td>\n      <td>4.000000</td>\n      <td>4100.000000</td>\n      <td>49.263808</td>\n      <td>-123.062734</td>\n    </tr>\n    <tr>\n      <th>max</th>\n      <td>317.000000</td>\n      <td>9201.000000</td>\n      <td>271025.000000</td>\n      <td>10.000000</td>\n      <td>9200.000000</td>\n      <td>49.294528</td>\n      <td>-123.018258</td>\n    </tr>\n  </tbody>\n</table>\n</div>",
      "application/papermill.record/text/plain": "           diameter  civic_number        tree_id  height_range_id  \\\ncount  30000.000000  30000.000000   30000.000000     30000.000000   \nmean      12.204926   2974.397233  128252.088500         2.717967   \nstd        9.334234   2068.223585   75099.139102         1.555819   \nmin        0.000000      0.000000      29.000000         0.000000   \n25%        4.250000   1319.000000   62110.250000         2.000000   \n50%       10.000000   2646.000000  129058.000000         2.000000   \n75%       17.250000   4063.250000  190963.750000         4.000000   \nmax      317.000000   9201.000000  271025.000000        10.000000   \n\n       on_street_block      latitude     longitude  \ncount     30000.000000  30000.000000  30000.000000  \nmean       2948.410767     49.247574   -123.106173  \nstd        2069.837551      0.021178      0.049450  \nmin           0.000000     49.200732   -123.223870  \n25%        1300.000000     49.230519   -123.144596  \n50%        2600.000000     49.248200   -123.104022  \n75%        4100.000000     49.263808   -123.062734  \nmax        9200.000000     49.294528   -123.018258  "
     },
     "metadata": {
      "scrapbook": {
       "mime_prefix": "application/papermill.record/",
       "name": "analysis_trees_describe"
      }
     },
     "output_type": "display_data"
    }
   ],
   "source": [
    "trees_describe = trees_df.describe()\n",
    "glue(\"analysis_trees_describe\",trees_describe,display=False)"
   ]
  },
  {
   "cell_type": "markdown",
   "id": "a97a7990-3bf7-4775-afb0-c54088dbb7c7",
   "metadata": {},
   "source": [
    "```{glue:figure} analysis_trees_describe\n",
    ":name: \"analysis_trees_describe\"\n",
    "\n",
    "General statistics of `trees_df` dataframe.\n",
    "```"
   ]
  },
  {
   "cell_type": "markdown",
   "id": "e2ade3ed",
   "metadata": {},
   "source": [
    "The mean diameter of the observed trees as seen in {numref}`analysis_trees_describe` is 12.20 inches, while the median diameter is 10.00 inches, indicating that the distribution of tree diameter for the full dataset is right-skewed. The maximum diameter is 317.00 inches (over 26 ft), while the minimum diameter is 0.00 inches. These maximum and minimum values both appear unreasonable and will require further investigation to determine their validity."
   ]
  },
  {
   "cell_type": "markdown",
   "id": "5480673f",
   "metadata": {},
   "source": [
    "### Data Validation"
   ]
  },
  {
   "cell_type": "markdown",
   "id": "61798ab2",
   "metadata": {},
   "source": [
    "Let's create a rug plot to quickly visualize the distribution of tree diameter."
   ]
  },
  {
   "cell_type": "code",
   "execution_count": 7,
   "id": "e75add91",
   "metadata": {
    "tags": [
     "hide-input"
    ]
   },
   "outputs": [
    {
     "data": {
      "application/papermill.record/text/html": "\n<div id=\"altair-viz-92ec7ccb28594b398c3e3526394e2e88\"></div>\n<script type=\"text/javascript\">\n  var VEGA_DEBUG = (typeof VEGA_DEBUG == \"undefined\") ? {} : VEGA_DEBUG;\n  (function(spec, embedOpt){\n    let outputDiv = document.currentScript.previousElementSibling;\n    if (outputDiv.id !== \"altair-viz-92ec7ccb28594b398c3e3526394e2e88\") {\n      outputDiv = document.getElementById(\"altair-viz-92ec7ccb28594b398c3e3526394e2e88\");\n    }\n    const paths = {\n      \"vega\": \"https://cdn.jsdelivr.net/npm//vega@5?noext\",\n      \"vega-lib\": \"https://cdn.jsdelivr.net/npm//vega-lib?noext\",\n      \"vega-lite\": \"https://cdn.jsdelivr.net/npm//vega-lite@4.17.0?noext\",\n      \"vega-embed\": \"https://cdn.jsdelivr.net/npm//vega-embed@6?noext\",\n    };\n\n    function maybeLoadScript(lib, version) {\n      var key = `${lib.replace(\"-\", \"\")}_version`;\n      return (VEGA_DEBUG[key] == version) ?\n        Promise.resolve(paths[lib]) :\n        new Promise(function(resolve, reject) {\n          var s = document.createElement('script');\n          document.getElementsByTagName(\"head\")[0].appendChild(s);\n          s.async = true;\n          s.onload = () => {\n            VEGA_DEBUG[key] = version;\n            return resolve(paths[lib]);\n          };\n          s.onerror = () => reject(`Error loading script: ${paths[lib]}`);\n          s.src = paths[lib];\n        });\n    }\n\n    function showError(err) {\n      outputDiv.innerHTML = `<div class=\"error\" style=\"color:red;\">${err}</div>`;\n      throw err;\n    }\n\n    function displayChart(vegaEmbed) {\n      vegaEmbed(outputDiv, spec, embedOpt)\n        .catch(err => showError(`Javascript Error: ${err.message}<br>This usually means there's a typo in your chart specification. See the javascript console for the full traceback.`));\n    }\n\n    if(typeof define === \"function\" && define.amd) {\n      requirejs.config({paths});\n      require([\"vega-embed\"], displayChart, err => showError(`Error loading script: ${err.message}`));\n    } else {\n      maybeLoadScript(\"vega\", \"5\")\n        .then(() => maybeLoadScript(\"vega-lite\", \"4.17.0\"))\n        .then(() => maybeLoadScript(\"vega-embed\", \"6\"))\n        .catch(showError)\n        .then(() => displayChart(vegaEmbed));\n    }\n  })({\"config\": {\"view\": {\"continuousWidth\": 400, \"continuousHeight\": 300}}, \"data\": {\"url\": \"https://raw.githubusercontent.com/UBC-MDS/exploratory-data-viz/main/data/vancouver_trees.csv\"}, \"mark\": \"tick\", \"encoding\": {\"x\": {\"field\": \"diameter\", \"type\": \"quantitative\"}}, \"width\": 800, \"$schema\": \"https://vega.github.io/schema/vega-lite/v4.17.0.json\"}, {\"mode\": \"vega-lite\"});\n</script>",
      "application/papermill.record/text/plain": "alt.Chart(...)"
     },
     "metadata": {
      "scrapbook": {
       "mime_prefix": "application/papermill.record/",
       "name": "analysis_rug"
      }
     },
     "output_type": "display_data"
    }
   ],
   "source": [
    "analysis_rug = alt.Chart(url_vancouver_trees).mark_tick().encode(\n",
    "    x=alt.X('diameter:Q')\n",
    ").properties(width=800)\n",
    "glue(\"analysis_rug\",analysis_rug,display=False)"
   ]
  },
  {
   "cell_type": "markdown",
   "id": "0d76c95c-f86b-4b41-93de-394f289e91bd",
   "metadata": {},
   "source": [
    "```{glue:figure} analysis_rug\n",
    ":name: \"analysis_rug\"\n",
    "\n",
    "Tree diameter distribution.\n",
    "```"
   ]
  },
  {
   "cell_type": "markdown",
   "id": "0f8d835d",
   "metadata": {},
   "source": [
    "The rugplot in {numref}`analysis_rug` looks fairly saturated until approximately 60 inches.\n",
    "\n",
    "Let's filter the data and inspect observations with diameter values exceeding 60 inches, as well as observations with diameter values equaling 0. We will encode the latitude and longitude of these points into a google maps search to allow for easy validation of their measurements through visual inspection. "
   ]
  },
  {
   "cell_type": "code",
   "execution_count": 8,
   "id": "2c13d132",
   "metadata": {
    "tags": [
     "hide-input"
    ]
   },
   "outputs": [
    {
     "data": {
      "application/papermill.record/text/html": "\n<div id=\"altair-viz-cd40e0e9552441e7ab450d5769dcded0\"></div>\n<script type=\"text/javascript\">\n  var VEGA_DEBUG = (typeof VEGA_DEBUG == \"undefined\") ? {} : VEGA_DEBUG;\n  (function(spec, embedOpt){\n    let outputDiv = document.currentScript.previousElementSibling;\n    if (outputDiv.id !== \"altair-viz-cd40e0e9552441e7ab450d5769dcded0\") {\n      outputDiv = document.getElementById(\"altair-viz-cd40e0e9552441e7ab450d5769dcded0\");\n    }\n    const paths = {\n      \"vega\": \"https://cdn.jsdelivr.net/npm//vega@5?noext\",\n      \"vega-lib\": \"https://cdn.jsdelivr.net/npm//vega-lib?noext\",\n      \"vega-lite\": \"https://cdn.jsdelivr.net/npm//vega-lite@4.17.0?noext\",\n      \"vega-embed\": \"https://cdn.jsdelivr.net/npm//vega-embed@6?noext\",\n    };\n\n    function maybeLoadScript(lib, version) {\n      var key = `${lib.replace(\"-\", \"\")}_version`;\n      return (VEGA_DEBUG[key] == version) ?\n        Promise.resolve(paths[lib]) :\n        new Promise(function(resolve, reject) {\n          var s = document.createElement('script');\n          document.getElementsByTagName(\"head\")[0].appendChild(s);\n          s.async = true;\n          s.onload = () => {\n            VEGA_DEBUG[key] = version;\n            return resolve(paths[lib]);\n          };\n          s.onerror = () => reject(`Error loading script: ${paths[lib]}`);\n          s.src = paths[lib];\n        });\n    }\n\n    function showError(err) {\n      outputDiv.innerHTML = `<div class=\"error\" style=\"color:red;\">${err}</div>`;\n      throw err;\n    }\n\n    function displayChart(vegaEmbed) {\n      vegaEmbed(outputDiv, spec, embedOpt)\n        .catch(err => showError(`Javascript Error: ${err.message}<br>This usually means there's a typo in your chart specification. See the javascript console for the full traceback.`));\n    }\n\n    if(typeof define === \"function\" && define.amd) {\n      requirejs.config({paths});\n      require([\"vega-embed\"], displayChart, err => showError(`Error loading script: ${err.message}`));\n    } else {\n      maybeLoadScript(\"vega\", \"5\")\n        .then(() => maybeLoadScript(\"vega-lite\", \"4.17.0\"))\n        .then(() => maybeLoadScript(\"vega-embed\", \"6\"))\n        .catch(showError)\n        .then(() => displayChart(vegaEmbed));\n    }\n  })({\"config\": {\"view\": {\"continuousWidth\": 400, \"continuousHeight\": 300, \"strokeWidth\": 0}}, \"layer\": [{\"data\": {\"url\": \"https://raw.githubusercontent.com/UBC-MDS/exploratory-data-viz/main/data/local-area-boundary.geojson\", \"format\": {\"property\": \"features\", \"type\": \"json\"}}, \"mark\": {\"type\": \"geoshape\", \"fill\": null, \"stroke\": \"black\"}, \"encoding\": {}, \"projection\": {\"reflectY\": true, \"type\": \"identity\"}}, {\"data\": {\"url\": \"https://raw.githubusercontent.com/UBC-MDS/exploratory-data-viz/main/data/vancouver_trees.csv\"}, \"mark\": {\"type\": \"circle\", \"color\": \"green\", \"size\": 80}, \"encoding\": {\"href\": {\"field\": \"tree_url\", \"type\": \"nominal\"}, \"latitude\": {\"field\": \"latitude\", \"type\": \"quantitative\"}, \"longitude\": {\"field\": \"longitude\", \"type\": \"quantitative\"}, \"size\": {\"field\": \"diameter\", \"legend\": {\"title\": \"Tree Diameter (in)\"}, \"scale\": {\"domain\": [-20, 400]}, \"type\": \"quantitative\"}, \"tooltip\": [{\"field\": \"tree_id\", \"title\": \"Tree ID\", \"type\": \"nominal\"}, {\"field\": \"common_name\", \"title\": \"Common name\", \"type\": \"nominal\"}, {\"field\": \"neighbourhood_name\", \"title\": \"Neighbourhood\", \"type\": \"nominal\"}, {\"field\": \"diameter\", \"title\": \"Diameter\", \"type\": \"quantitative\"}, {\"field\": \"tree_url\", \"title\": \"Google maps\", \"type\": \"nominal\"}]}, \"transform\": [{\"calculate\": \"((('https://maps.google.com/?q=' + datum.latitude) + ',') + datum.longitude)\", \"as\": \"tree_url\"}, {\"filter\": \"(datum.diameter== 0) | (datum.diameter > 60)\"}]}], \"title\": \"Tree Diameter Outliers in Vancouver Street Tree Population\", \"width\": 800, \"$schema\": \"https://vega.github.io/schema/vega-lite/v4.17.0.json\"}, {\"mode\": \"vega-lite\"});\n</script>",
      "application/papermill.record/text/plain": "alt.LayerChart(...)"
     },
     "metadata": {
      "scrapbook": {
       "mime_prefix": "application/papermill.record/",
       "name": "diameter_outliers_layered"
      }
     },
     "output_type": "display_data"
    }
   ],
   "source": [
    "base_map = alt.Chart(data_geojson_remote).mark_geoshape(fill=None, stroke='black').encode(\n",
    ").project(type='identity', reflectY=True)\n",
    "\n",
    "diameter_outliers= alt.Chart(url_vancouver_trees).mark_circle(color='green', size=80).transform_calculate(\n",
    "    tree_url= 'https://maps.google.com/?q='+ alt.datum.latitude + ',' + alt.datum.longitude\n",
    ").encode(\n",
    "    latitude='latitude:Q',\n",
    "    longitude='longitude:Q',\n",
    "    href='tree_url:N',\n",
    "    tooltip=[alt.Tooltip('tree_id:N', title='Tree ID'),\n",
    "             alt.Tooltip('common_name:N', title='Common name'),\n",
    "             alt.Tooltip('neighbourhood_name:N', title='Neighbourhood'),\n",
    "             alt.Tooltip('diameter:Q', title='Diameter'),\n",
    "             alt.Tooltip('tree_url:N', title='Google maps')],\n",
    "    size=alt.Size('diameter:Q', scale=alt.Scale(domain=[-20,400]), legend=alt.Legend(title=\"Tree Diameter (in)\"))\n",
    ").transform_filter(('(datum.diameter== 0) | (datum.diameter > 60)'))\n",
    "\n",
    "diameter_outliers_layered = (base_map + diameter_outliers).properties(width=800, title= 'Tree Diameter Outliers in Vancouver Street Tree Population').configure_view(strokeWidth=0)\n",
    "glue(\"diameter_outliers_layered\",diameter_outliers_layered, display=False)"
   ]
  },
  {
   "cell_type": "markdown",
   "id": "c09b8eb7-2347-48eb-a4b6-babb44fc059d",
   "metadata": {},
   "source": [
    "```{glue:figure} diameter_outliers_layered\n",
    ":name: \"diameter_outliers_layered\"\n",
    "\n",
    "Tree Diameter Outliers in Vancouver Street Tree Population\n",
    "```"
   ]
  },
  {
   "cell_type": "markdown",
   "id": "111114a0",
   "metadata": {},
   "source": [
    "Let's start off with tree ID 43236, listed as a <i>Pissard Plum</i> with a diameter of 0 inches as seen in the Oakridge neighbourhood of {numref}`diameter_outliers_layered` :\n",
    "\n",
    "```{figure} ../images/tree-id_043236.png\n",
    "---\n",
    "height: 300px\n",
    "name: tree-id_043236_analysis\n",
    "---\n",
    "Tree ID 43236, Pissard Plum, *Oakridge*\n",
    "```\n",
    "\n",
    "Upon inspection of {numref}`tree-id_043236_analysis`, it is evident that this tree is not close to 0 inches in diameter.\n",
    "\n",
    "Next let's look at tree ID 149285 which lies at the other end of the diameter outlier spectrum. This tree is the largest tree listed in the dataset, categorized as a <i>Maple Species</i> with a diameter of 317 inches (over 26 feet) as seen in the Kitsilano neighbourhood of {numref}`diameter_outliers_layered`:\n",
    "\n",
    "```{figure} ../images/tree-id_149285.png\n",
    "---\n",
    "height: 300px\n",
    "name: tree-id_149285_analysis\n",
    "---\n",
    "Tree ID 149285, Maple Species, *Kitsilano*\n",
    "```\n",
    "\n",
    "It is obvious from {numref}`tree-id_149285_analysis` that the tree does not have a diameter of more than 26 feet.\n",
    "\n",
    "The diameters of tree IDs 43236 and 149285 are evidently inaccurate, and thus can bet removed from the dataset.\n",
    "\n",
    "Upon examination of the remaining trees in {numref}`diameter_outliers_layered` through Google Maps streetview, we can see that a majority of the diameter measurements are inaccurate, however, the validity of some diameters are more ambiguous. As an example, let's look at tree ID 93845, listed as a <i>Deodar Cedar</i> with a diameter of 71 inches as seen in the Kitsilano neighbourhood of {numref}`diameter_outliers_layered`:\n",
    "\n",
    "```{figure} ../images/tree-id_093845.png\n",
    "---\n",
    "height: 300px\n",
    "name: tree-id_093845_analysis\n",
    "---\n",
    "Tree ID 93845, Deodar Cedar, *Kitsilano*\n",
    "```\n",
    "\n",
    "This is a multi-stemmed tree with an overall diameter of 71 inches, the three individual stems each having a smaller diameter. In a study examining methods of multi-stemmed tree measurement, Magarik et al found that there was no significant difference in the predictive power of overall diameter in regards to tree height and crown width of multi-stemmed trees (Magarik et al 2020). For this reason, we can feel justified in keeping these trees as part of the dataset.\n",
    "\n",
    "Of the outliers present in {numref}`diameter_outliers_layered` , tree IDs 87265, 168648, 142102, 142079 and 126267 can be kept as part of the data set as their listed diameters are reasonable based on visualization through Google Maps. The remaining outlier trees can be removed from the analysis.\n",
    "\n",
    "Although this method is not the most robust as far as outlier detection and removal, it is adequate for the scope of this analysis. "
   ]
  },
  {
   "cell_type": "code",
   "execution_count": 9,
   "id": "f15dd565",
   "metadata": {
    "tags": [
     "hide-input"
    ]
   },
   "outputs": [],
   "source": [
    "diameter_outlier_ids = [\n",
    "    43236, 158784, 191867, 188673,\n",
    "    188672, 222821, 85182, 93845,\n",
    "    71403, 128151, 23759, 78588,\n",
    "    51001, 149285\n",
    "                    ]"
   ]
  },
  {
   "cell_type": "markdown",
   "id": "41a5e68a",
   "metadata": {},
   "source": [
    "Next, we will analyse the validity of the `neighbourhood_name` variable by creating a point map using the latitude and longitude of each tree and faceting by neighbourhood. Any points lying outside of the neighbourhood boundary will be removed from the analysis as the data within the observation is not internally consistent."
   ]
  },
  {
   "cell_type": "code",
   "execution_count": 10,
   "id": "29e628b1",
   "metadata": {
    "tags": [
     "hide-input"
    ]
   },
   "outputs": [
    {
     "data": {
      "application/papermill.record/text/html": "\n<div id=\"altair-viz-ddb66928493e458d93151508e611c3cf\"></div>\n<script type=\"text/javascript\">\n  var VEGA_DEBUG = (typeof VEGA_DEBUG == \"undefined\") ? {} : VEGA_DEBUG;\n  (function(spec, embedOpt){\n    let outputDiv = document.currentScript.previousElementSibling;\n    if (outputDiv.id !== \"altair-viz-ddb66928493e458d93151508e611c3cf\") {\n      outputDiv = document.getElementById(\"altair-viz-ddb66928493e458d93151508e611c3cf\");\n    }\n    const paths = {\n      \"vega\": \"https://cdn.jsdelivr.net/npm//vega@5?noext\",\n      \"vega-lib\": \"https://cdn.jsdelivr.net/npm//vega-lib?noext\",\n      \"vega-lite\": \"https://cdn.jsdelivr.net/npm//vega-lite@4.17.0?noext\",\n      \"vega-embed\": \"https://cdn.jsdelivr.net/npm//vega-embed@6?noext\",\n    };\n\n    function maybeLoadScript(lib, version) {\n      var key = `${lib.replace(\"-\", \"\")}_version`;\n      return (VEGA_DEBUG[key] == version) ?\n        Promise.resolve(paths[lib]) :\n        new Promise(function(resolve, reject) {\n          var s = document.createElement('script');\n          document.getElementsByTagName(\"head\")[0].appendChild(s);\n          s.async = true;\n          s.onload = () => {\n            VEGA_DEBUG[key] = version;\n            return resolve(paths[lib]);\n          };\n          s.onerror = () => reject(`Error loading script: ${paths[lib]}`);\n          s.src = paths[lib];\n        });\n    }\n\n    function showError(err) {\n      outputDiv.innerHTML = `<div class=\"error\" style=\"color:red;\">${err}</div>`;\n      throw err;\n    }\n\n    function displayChart(vegaEmbed) {\n      vegaEmbed(outputDiv, spec, embedOpt)\n        .catch(err => showError(`Javascript Error: ${err.message}<br>This usually means there's a typo in your chart specification. See the javascript console for the full traceback.`));\n    }\n\n    if(typeof define === \"function\" && define.amd) {\n      requirejs.config({paths});\n      require([\"vega-embed\"], displayChart, err => showError(`Error loading script: ${err.message}`));\n    } else {\n      maybeLoadScript(\"vega\", \"5\")\n        .then(() => maybeLoadScript(\"vega-lite\", \"4.17.0\"))\n        .then(() => maybeLoadScript(\"vega-embed\", \"6\"))\n        .catch(showError)\n        .then(() => displayChart(vegaEmbed));\n    }\n  })({\"config\": {\"view\": {\"continuousWidth\": 400, \"continuousHeight\": 300, \"strokeWidth\": 0}}, \"data\": {\"url\": \"https://raw.githubusercontent.com/UBC-MDS/exploratory-data-viz/main/data/vancouver_trees.csv\"}, \"facet\": {\"field\": \"neighbourhood_name\", \"type\": \"nominal\"}, \"spec\": {\"layer\": [{\"data\": {\"url\": \"https://raw.githubusercontent.com/UBC-MDS/exploratory-data-viz/main/data/local-area-boundary.geojson\", \"format\": {\"property\": \"features\", \"type\": \"json\"}}, \"mark\": {\"type\": \"geoshape\", \"fill\": null, \"stroke\": \"black\"}, \"encoding\": {}, \"projection\": {\"reflectY\": true, \"type\": \"identity\"}}, {\"mark\": {\"type\": \"circle\", \"color\": \"green\", \"size\": 10}, \"encoding\": {\"latitude\": {\"field\": \"latitude\", \"type\": \"quantitative\"}, \"longitude\": {\"field\": \"longitude\", \"type\": \"quantitative\"}, \"tooltip\": [{\"field\": \"tree_id\", \"title\": \"Tree ID\", \"type\": \"nominal\"}]}}], \"width\": 450}, \"columns\": 2, \"$schema\": \"https://vega.github.io/schema/vega-lite/v4.17.0.json\"}, {\"mode\": \"vega-lite\"});\n</script>",
      "application/papermill.record/text/plain": "alt.FacetChart(...)"
     },
     "metadata": {
      "scrapbook": {
       "mime_prefix": "application/papermill.record/",
       "name": "neighbourhood_outlier_map"
      }
     },
     "output_type": "display_data"
    }
   ],
   "source": [
    "neighbourhood_trees = alt.Chart().mark_circle(color='green',size=10).encode(\n",
    "    latitude='latitude:Q',\n",
    "    longitude='longitude:Q',\n",
    "    tooltip=[alt.Tooltip('tree_id:N', title='Tree ID')]\n",
    ")\n",
    "\n",
    "neighbourhood_outlier_map = alt.layer(base_map, neighbourhood_trees, data=url_vancouver_trees).properties(width=450).facet('neighbourhood_name:N', columns=2).configure_view(strokeWidth=0)\n",
    "glue(\"neighbourhood_outlier_map\",neighbourhood_outlier_map,display=False)"
   ]
  },
  {
   "cell_type": "markdown",
   "id": "e23ae4d7-b6b0-4e2b-8a56-e56272e21f13",
   "metadata": {},
   "source": [
    "```{glue:figure} neighbourhood_outlier_map\n",
    ":name: \"neighbourhood_outlier_map\"\n",
    "\n",
    "Vancouver Street Trees by Neighbourhood\n",
    "```"
   ]
  },
  {
   "cell_type": "markdown",
   "id": "3a17d782",
   "metadata": {},
   "source": [
    "Upon insection of {numref}`neighbourhood_outlier_map`, 28 trees are located outside their listed neighbourhood. We will drop these data points from our analysis."
   ]
  },
  {
   "cell_type": "code",
   "execution_count": 11,
   "id": "4e05612f",
   "metadata": {
    "tags": [
     "hide-input"
    ]
   },
   "outputs": [],
   "source": [
    "neighbourhood_outlier_ids=[\n",
    "    255981,264928,256165, 255911, # Arbutus Ridge\n",
    "    270750, 59956, # Downtown\n",
    "    256819, 256822, 256701, 256717, 256719, 256890, 256653, 256706, 256803, 201285, # Dunbar-Southlands\n",
    "    227312, # Grandview-Woodland\n",
    "    256183, 255969, 256270, # Kitsilano\n",
    "    141289, # Mount Pleasant\n",
    "    256896, 267123, # Renfrew-Collingwood\n",
    "    263937, # South Cambie\n",
    "    255068, # West End\n",
    "    257203, 256894, 257095, 257093 # West Point Grey    \n",
    "]"
   ]
  },
  {
   "cell_type": "markdown",
   "id": "03692bd2",
   "metadata": {},
   "source": [
    "### Data Cleansing"
   ]
  },
  {
   "cell_type": "markdown",
   "id": "001cee4c",
   "metadata": {},
   "source": [
    "Now, let's create a base chart that filters out the previously identified outlier data from which we can build our final analysis charts."
   ]
  },
  {
   "cell_type": "code",
   "execution_count": 12,
   "id": "1051646d",
   "metadata": {
    "tags": [
     "hide-input"
    ]
   },
   "outputs": [],
   "source": [
    "all_outliers = diameter_outlier_ids + neighbourhood_outlier_ids\n",
    "\n",
    "clean_trees = alt.Chart(url_vancouver_trees).transform_filter(\n",
    "    {\"not\": alt.FieldOneOfPredicate(field=\"tree_id\", oneOf=all_outliers)}\n",
    ")"
   ]
  },
  {
   "cell_type": "code",
   "execution_count": 13,
   "id": "7879ed84",
   "metadata": {
    "tags": [
     "hide-input"
    ]
   },
   "outputs": [
    {
     "data": {
      "application/papermill.record/text/html": "<div>\n<style scoped>\n    .dataframe tbody tr th:only-of-type {\n        vertical-align: middle;\n    }\n\n    .dataframe tbody tr th {\n        vertical-align: top;\n    }\n\n    .dataframe thead th {\n        text-align: right;\n    }\n</style>\n<table border=\"1\" class=\"dataframe\">\n  <thead>\n    <tr style=\"text-align: right;\">\n      <th></th>\n      <th>diameter</th>\n      <th>civic_number</th>\n      <th>tree_id</th>\n      <th>height_range_id</th>\n      <th>on_street_block</th>\n      <th>latitude</th>\n      <th>longitude</th>\n    </tr>\n  </thead>\n  <tbody>\n    <tr>\n      <th>count</th>\n      <td>29957.000000</td>\n      <td>29957.000000</td>\n      <td>29957.000000</td>\n      <td>29957.000000</td>\n      <td>29957.000000</td>\n      <td>29957.000000</td>\n      <td>29957.000000</td>\n    </tr>\n    <tr>\n      <th>mean</th>\n      <td>12.179832</td>\n      <td>2974.227893</td>\n      <td>128143.781086</td>\n      <td>2.718964</td>\n      <td>2948.256601</td>\n      <td>49.247565</td>\n      <td>-123.106218</td>\n    </tr>\n    <tr>\n      <th>std</th>\n      <td>9.012142</td>\n      <td>2068.728158</td>\n      <td>75042.511379</td>\n      <td>1.555135</td>\n      <td>2070.323422</td>\n      <td>0.021179</td>\n      <td>0.049435</td>\n    </tr>\n    <tr>\n      <th>min</th>\n      <td>0.250000</td>\n      <td>0.000000</td>\n      <td>29.000000</td>\n      <td>0.000000</td>\n      <td>0.000000</td>\n      <td>49.200732</td>\n      <td>-123.223870</td>\n    </tr>\n    <tr>\n      <th>25%</th>\n      <td>4.250000</td>\n      <td>1319.000000</td>\n      <td>62031.000000</td>\n      <td>2.000000</td>\n      <td>1300.000000</td>\n      <td>49.230514</td>\n      <td>-123.144617</td>\n    </tr>\n    <tr>\n      <th>50%</th>\n      <td>10.000000</td>\n      <td>2645.000000</td>\n      <td>128992.000000</td>\n      <td>2.000000</td>\n      <td>2600.000000</td>\n      <td>49.248194</td>\n      <td>-123.104058</td>\n    </tr>\n    <tr>\n      <th>75%</th>\n      <td>17.250000</td>\n      <td>4063.000000</td>\n      <td>190861.000000</td>\n      <td>4.000000</td>\n      <td>4100.000000</td>\n      <td>49.263800</td>\n      <td>-123.062798</td>\n    </tr>\n    <tr>\n      <th>max</th>\n      <td>72.000000</td>\n      <td>9201.000000</td>\n      <td>271025.000000</td>\n      <td>10.000000</td>\n      <td>9200.000000</td>\n      <td>49.294528</td>\n      <td>-123.023304</td>\n    </tr>\n  </tbody>\n</table>\n</div>",
      "application/papermill.record/text/plain": "           diameter  civic_number        tree_id  height_range_id  \\\ncount  29957.000000  29957.000000   29957.000000     29957.000000   \nmean      12.179832   2974.227893  128143.781086         2.718964   \nstd        9.012142   2068.728158   75042.511379         1.555135   \nmin        0.250000      0.000000      29.000000         0.000000   \n25%        4.250000   1319.000000   62031.000000         2.000000   \n50%       10.000000   2645.000000  128992.000000         2.000000   \n75%       17.250000   4063.000000  190861.000000         4.000000   \nmax       72.000000   9201.000000  271025.000000        10.000000   \n\n       on_street_block      latitude     longitude  \ncount     29957.000000  29957.000000  29957.000000  \nmean       2948.256601     49.247565   -123.106218  \nstd        2070.323422      0.021179      0.049435  \nmin           0.000000     49.200732   -123.223870  \n25%        1300.000000     49.230514   -123.144617  \n50%        2600.000000     49.248194   -123.104058  \n75%        4100.000000     49.263800   -123.062798  \nmax        9200.000000     49.294528   -123.023304  "
     },
     "metadata": {
      "scrapbook": {
       "mime_prefix": "application/papermill.record/",
       "name": "clean_trees_describe"
      }
     },
     "output_type": "display_data"
    }
   ],
   "source": [
    "clean_trees_describe = trees_df[~trees_df['tree_id'].isin(all_outliers)].describe()\n",
    "glue(\"clean_trees_describe\", clean_trees_describe, display=False)"
   ]
  },
  {
   "cell_type": "markdown",
   "id": "6e4daeaa-656f-4237-818e-af31611e72ee",
   "metadata": {},
   "source": [
    "```{glue:figure} clean_trees_describe\n",
    ":name: \"clean_trees_describe\"\n",
    "\n",
    "General statistics of `clean_trees` base chart data\n",
    "```"
   ]
  },
  {
   "cell_type": "markdown",
   "id": "53cd18b3",
   "metadata": {},
   "source": [
    "Upon inspection of {numref}`clean_trees_describe`, 29,958 observations remain in cleansed data set, meaning only 0.14% of the observations were dropped for analysis. The maximum diameter of the trimmed data set is 72 inches while the minimum is now 0.25. These values are more reasonable. The mean diameter decreased by only 0.02 inches, from 12.20 inches to 12.18 inches. Removal of the outlier trees decreased the diameter range to a reasonable value while having little effect on the overall count of observations and mean of the diameter. "
   ]
  },
  {
   "cell_type": "markdown",
   "id": "5693340c",
   "metadata": {},
   "source": [
    "### Analysis"
   ]
  },
  {
   "cell_type": "markdown",
   "id": "a26255b3",
   "metadata": {},
   "source": [
    "To begin our analysis, we will calculate our desired metrics within an altair chart to use as a base for our final figures."
   ]
  },
  {
   "cell_type": "code",
   "execution_count": 14,
   "id": "0bb6b770",
   "metadata": {
    "tags": [
     "hide-input"
    ]
   },
   "outputs": [],
   "source": [
    "# Create chart with base calculations\n",
    "base_calc_chart = (\n",
    "    clean_trees.transform_calculate(  # Calculate basal area in m2\n",
    "        diameter_m=\"datum.diameter*0.0254\", basal_area=\"pow(datum.diameter_m/2,2)*PI\"\n",
    "    )\n",
    "    .transform_joinaggregate(  # Calculate total area and number of trees\n",
    "        total_basal_area=\"sum(basal_area)\", total_count=\"count(tree_id)\",\n",
    "    )\n",
    "    .transform_calculate(  # Calculate dominance, abundance, importance\n",
    "        relative_dominance=\"datum.basal_area/datum.total_basal_area\",\n",
    "        relative_abundance=\"1/datum.total_count\",\n",
    "        importance_value=\"datum.relative_dominance + datum.relative_abundance\",\n",
    "    ) # Calculate total importance value of population\n",
    "    .transform_joinaggregate(total_importance=\"sum(importance_value)\")\n",
    "    .transform_calculate(  # Calculate relative importance of each tree\n",
    "        relative_importance=\"datum.importance_value/datum.total_importance\"\n",
    "    )\n",
    ")"
   ]
  },
  {
   "cell_type": "markdown",
   "id": "700dc04c",
   "metadata": {},
   "source": [
    "### How do the various genera in the Vancouver street tree population rank in relation to one another in terms of importance in the total population?"
   ]
  },
  {
   "cell_type": "code",
   "execution_count": 15,
   "id": "c947db7b",
   "metadata": {
    "tags": [
     "hide-input"
    ]
   },
   "outputs": [
    {
     "name": "stderr",
     "output_type": "stream",
     "text": [
      "C:\\Users\\danie\\miniconda3\\lib\\site-packages\\altair\\utils\\core.py:317: FutureWarning: iteritems is deprecated and will be removed in a future version. Use .items instead.\n",
      "  for col_name, dtype in df.dtypes.iteritems():\n"
     ]
    },
    {
     "data": {
      "application/papermill.record/text/html": "\n<div id=\"altair-viz-0d54afcaeb594383bdf847a82e2a2de1\"></div>\n<script type=\"text/javascript\">\n  var VEGA_DEBUG = (typeof VEGA_DEBUG == \"undefined\") ? {} : VEGA_DEBUG;\n  (function(spec, embedOpt){\n    let outputDiv = document.currentScript.previousElementSibling;\n    if (outputDiv.id !== \"altair-viz-0d54afcaeb594383bdf847a82e2a2de1\") {\n      outputDiv = document.getElementById(\"altair-viz-0d54afcaeb594383bdf847a82e2a2de1\");\n    }\n    const paths = {\n      \"vega\": \"https://cdn.jsdelivr.net/npm//vega@5?noext\",\n      \"vega-lib\": \"https://cdn.jsdelivr.net/npm//vega-lib?noext\",\n      \"vega-lite\": \"https://cdn.jsdelivr.net/npm//vega-lite@4.17.0?noext\",\n      \"vega-embed\": \"https://cdn.jsdelivr.net/npm//vega-embed@6?noext\",\n    };\n\n    function maybeLoadScript(lib, version) {\n      var key = `${lib.replace(\"-\", \"\")}_version`;\n      return (VEGA_DEBUG[key] == version) ?\n        Promise.resolve(paths[lib]) :\n        new Promise(function(resolve, reject) {\n          var s = document.createElement('script');\n          document.getElementsByTagName(\"head\")[0].appendChild(s);\n          s.async = true;\n          s.onload = () => {\n            VEGA_DEBUG[key] = version;\n            return resolve(paths[lib]);\n          };\n          s.onerror = () => reject(`Error loading script: ${paths[lib]}`);\n          s.src = paths[lib];\n        });\n    }\n\n    function showError(err) {\n      outputDiv.innerHTML = `<div class=\"error\" style=\"color:red;\">${err}</div>`;\n      throw err;\n    }\n\n    function displayChart(vegaEmbed) {\n      vegaEmbed(outputDiv, spec, embedOpt)\n        .catch(err => showError(`Javascript Error: ${err.message}<br>This usually means there's a typo in your chart specification. See the javascript console for the full traceback.`));\n    }\n\n    if(typeof define === \"function\" && define.amd) {\n      requirejs.config({paths});\n      require([\"vega-embed\"], displayChart, err => showError(`Error loading script: ${err.message}`));\n    } else {\n      maybeLoadScript(\"vega\", \"5\")\n        .then(() => maybeLoadScript(\"vega-lite\", \"4.17.0\"))\n        .then(() => maybeLoadScript(\"vega-embed\", \"6\"))\n        .catch(showError)\n        .then(() => displayChart(vegaEmbed));\n    }\n  })({\"config\": {\"view\": {\"continuousWidth\": 400, \"continuousHeight\": 300, \"strokeWidth\": 0}}, \"hconcat\": [{\"layer\": [{\"mark\": {\"type\": \"circle\", \"color\": \"#54a24b\"}, \"encoding\": {\"opacity\": {\"condition\": {\"value\": 1, \"selection\": \"selector001\"}, \"value\": 0.3}, \"size\": {\"field\": \"total_relative_importance\", \"legend\": {\"format\": \"%\", \"orient\": \"top-left\"}, \"scale\": {\"domain\": [0, 0.25]}, \"title\": \"Relative importance\", \"type\": \"quantitative\"}, \"stroke\": {\"condition\": {\"value\": \"red\", \"selection\": \"selector001\"}, \"value\": \"black\"}, \"strokeWidth\": {\"value\": 4}, \"tooltip\": [{\"field\": \"total_relative_abundance\", \"format\": \".2%\", \"title\": \"Relative abundance\", \"type\": \"quantitative\"}, {\"field\": \"total_relative_dominance\", \"format\": \".2%\", \"title\": \"Relative dominance\", \"type\": \"quantitative\"}, {\"field\": \"total_relative_importance\", \"format\": \".2%\", \"title\": \"Relative importance\", \"type\": \"quantitative\"}], \"x\": {\"axis\": {\"format\": \"%\", \"grid\": false}, \"field\": \"total_relative_abundance\", \"title\": \"Relative abundance\", \"type\": \"quantitative\"}, \"y\": {\"axis\": {\"format\": \"%\", \"grid\": false}, \"field\": \"total_relative_dominance\", \"title\": \"Relative dominance\", \"type\": \"quantitative\"}}, \"height\": 300, \"selection\": {\"selector001\": {\"type\": \"multi\", \"fields\": [\"genus_name\"], \"init\": [{\"genus_name\": \"PRUNUS\"}, {\"genus_name\": \"ACER\"}, {\"genus_name\": \"QUERCUS\"}], \"empty\": \"none\"}}, \"transform\": [{\"filter\": {\"not\": {\"field\": \"tree_id\", \"oneOf\": [43236, 158784, 191867, 188673, 188672, 222821, 85182, 93845, 71403, 128151, 23759, 78588, 51001, 149285, 255981, 264928, 256165, 255911, 270750, 59956, 256819, 256822, 256701, 256717, 256719, 256890, 256653, 256706, 256803, 201285, 227312, 256183, 255969, 256270, 141289, 256896, 267123, 263937, 255068, 257203, 256894, 257095, 257093]}}}, {\"calculate\": \"datum.diameter*0.0254\", \"as\": \"diameter_m\"}, {\"calculate\": \"pow(datum.diameter_m/2,2)*PI\", \"as\": \"basal_area\"}, {\"joinaggregate\": [{\"op\": \"sum\", \"field\": \"basal_area\", \"as\": \"total_basal_area\"}, {\"op\": \"count\", \"field\": \"tree_id\", \"as\": \"total_count\"}]}, {\"calculate\": \"datum.basal_area/datum.total_basal_area\", \"as\": \"relative_dominance\"}, {\"calculate\": \"1/datum.total_count\", \"as\": \"relative_abundance\"}, {\"calculate\": \"datum.relative_dominance + datum.relative_abundance\", \"as\": \"importance_value\"}, {\"joinaggregate\": [{\"op\": \"sum\", \"field\": \"importance_value\", \"as\": \"total_importance\"}]}, {\"calculate\": \"datum.importance_value/datum.total_importance\", \"as\": \"relative_importance\"}, {\"aggregate\": [{\"op\": \"sum\", \"field\": \"relative_importance\", \"as\": \"total_relative_importance\"}, {\"op\": \"sum\", \"field\": \"relative_abundance\", \"as\": \"total_relative_abundance\"}, {\"op\": \"sum\", \"field\": \"relative_dominance\", \"as\": \"total_relative_dominance\"}, {\"op\": \"sum\", \"field\": \"basal_area\", \"as\": \"total_basal_area\"}, {\"op\": \"count\", \"field\": \"tree_id\", \"as\": \"genus_count\"}], \"groupby\": [\"genus_name\"]}, {\"window\": [{\"op\": \"rank\", \"as\": \"importance_rank\"}], \"sort\": [{\"field\": \"total_relative_importance\", \"order\": \"descending\"}]}, {\"filter\": \"datum.importance_rank <= 10\"}], \"width\": 300}, {\"mark\": {\"type\": \"text\", \"dy\": 20}, \"encoding\": {\"color\": {\"value\": \"black\"}, \"opacity\": {\"condition\": {\"value\": 1, \"selection\": \"selector001\"}, \"value\": 0.3}, \"size\": {\"value\": 12}, \"stroke\": {\"value\": \"black\"}, \"strokeWidth\": {\"value\": 0.5}, \"text\": {\"condition\": {\"field\": \"genus_name\", \"type\": \"nominal\", \"selection\": \"selector001\"}, \"value\": \"\"}, \"tooltip\": [{\"field\": \"total_relative_abundance\", \"format\": \".2%\", \"title\": \"Relative abundance\", \"type\": \"quantitative\"}, {\"field\": \"total_relative_dominance\", \"format\": \".2%\", \"title\": \"Relative dominance\", \"type\": \"quantitative\"}, {\"field\": \"total_relative_importance\", \"format\": \".2%\", \"title\": \"Relative importance\", \"type\": \"quantitative\"}], \"x\": {\"axis\": {\"format\": \"%\", \"grid\": false}, \"field\": \"total_relative_abundance\", \"title\": \"Relative abundance\", \"type\": \"quantitative\"}, \"y\": {\"axis\": {\"format\": \"%\", \"grid\": false}, \"field\": \"total_relative_dominance\", \"title\": \"Relative dominance\", \"type\": \"quantitative\"}}, \"height\": 300, \"transform\": [{\"filter\": {\"not\": {\"field\": \"tree_id\", \"oneOf\": [43236, 158784, 191867, 188673, 188672, 222821, 85182, 93845, 71403, 128151, 23759, 78588, 51001, 149285, 255981, 264928, 256165, 255911, 270750, 59956, 256819, 256822, 256701, 256717, 256719, 256890, 256653, 256706, 256803, 201285, 227312, 256183, 255969, 256270, 141289, 256896, 267123, 263937, 255068, 257203, 256894, 257095, 257093]}}}, {\"calculate\": \"datum.diameter*0.0254\", \"as\": \"diameter_m\"}, {\"calculate\": \"pow(datum.diameter_m/2,2)*PI\", \"as\": \"basal_area\"}, {\"joinaggregate\": [{\"op\": \"sum\", \"field\": \"basal_area\", \"as\": \"total_basal_area\"}, {\"op\": \"count\", \"field\": \"tree_id\", \"as\": \"total_count\"}]}, {\"calculate\": \"datum.basal_area/datum.total_basal_area\", \"as\": \"relative_dominance\"}, {\"calculate\": \"1/datum.total_count\", \"as\": \"relative_abundance\"}, {\"calculate\": \"datum.relative_dominance + datum.relative_abundance\", \"as\": \"importance_value\"}, {\"joinaggregate\": [{\"op\": \"sum\", \"field\": \"importance_value\", \"as\": \"total_importance\"}]}, {\"calculate\": \"datum.importance_value/datum.total_importance\", \"as\": \"relative_importance\"}, {\"aggregate\": [{\"op\": \"sum\", \"field\": \"relative_importance\", \"as\": \"total_relative_importance\"}, {\"op\": \"sum\", \"field\": \"relative_abundance\", \"as\": \"total_relative_abundance\"}, {\"op\": \"sum\", \"field\": \"relative_dominance\", \"as\": \"total_relative_dominance\"}, {\"op\": \"sum\", \"field\": \"basal_area\", \"as\": \"total_basal_area\"}, {\"op\": \"count\", \"field\": \"tree_id\", \"as\": \"genus_count\"}], \"groupby\": [\"genus_name\"]}, {\"window\": [{\"op\": \"rank\", \"as\": \"importance_rank\"}], \"sort\": [{\"field\": \"total_relative_importance\", \"order\": \"descending\"}]}, {\"filter\": \"datum.importance_rank <= 10\"}], \"width\": 300}, {\"data\": {\"url\": \"http://localhost:54788/c6826870ea909cc17c6e97aac5d6aecc.json\"}, \"mark\": {\"type\": \"line\", \"color\": \"black\", \"strokeDash\": [5, 5]}, \"encoding\": {\"x\": {\"field\": \"relative_abundance\", \"type\": \"quantitative\"}, \"y\": {\"field\": \"relative_dominance\", \"type\": \"quantitative\"}}}, {\"data\": {\"url\": \"http://localhost:54788/c6826870ea909cc17c6e97aac5d6aecc.json\"}, \"mark\": {\"type\": \"text\", \"angle\": 315, \"dy\": -10}, \"encoding\": {\"text\": {\"value\": \"Mean basal area\"}, \"x\": {\"field\": \"relative_abundance\", \"type\": \"quantitative\"}, \"y\": {\"field\": \"relative_dominance\", \"type\": \"quantitative\"}}, \"transform\": [{\"filter\": \"datum.relative_dominance == 0.125\"}]}]}, {\"layer\": [{\"mark\": {\"type\": \"bar\", \"color\": \"#54a24b\", \"size\": 20}, \"encoding\": {\"stroke\": {\"condition\": {\"value\": \"red\", \"selection\": \"selector001\"}, \"value\": \"black\"}, \"strokeWidth\": {\"value\": 4}, \"tooltip\": [{\"field\": \"genus_name\", \"title\": \"Genus\", \"type\": \"nominal\"}, {\"field\": \"total_relative_importance\", \"format\": \".2%\", \"title\": \"Relative importance\", \"type\": \"quantitative\"}], \"x\": {\"axis\": {\"grid\": false, \"labels\": false, \"ticks\": false}, \"field\": \"total_relative_importance\", \"title\": \"Relative importance\", \"type\": \"quantitative\"}, \"y\": {\"axis\": {\"labelFontSize\": 12, \"labelFontStyle\": \"bold\"}, \"field\": \"genus_name\", \"sort\": \"x\", \"title\": null, \"type\": \"nominal\"}}, \"height\": 300, \"selection\": {\"selector001\": {\"type\": \"multi\", \"fields\": [\"genus_name\"], \"init\": [{\"genus_name\": \"PRUNUS\"}, {\"genus_name\": \"ACER\"}, {\"genus_name\": \"QUERCUS\"}], \"empty\": \"none\"}}, \"transform\": [{\"filter\": {\"not\": {\"field\": \"tree_id\", \"oneOf\": [43236, 158784, 191867, 188673, 188672, 222821, 85182, 93845, 71403, 128151, 23759, 78588, 51001, 149285, 255981, 264928, 256165, 255911, 270750, 59956, 256819, 256822, 256701, 256717, 256719, 256890, 256653, 256706, 256803, 201285, 227312, 256183, 255969, 256270, 141289, 256896, 267123, 263937, 255068, 257203, 256894, 257095, 257093]}}}, {\"calculate\": \"datum.diameter*0.0254\", \"as\": \"diameter_m\"}, {\"calculate\": \"pow(datum.diameter_m/2,2)*PI\", \"as\": \"basal_area\"}, {\"joinaggregate\": [{\"op\": \"sum\", \"field\": \"basal_area\", \"as\": \"total_basal_area\"}, {\"op\": \"count\", \"field\": \"tree_id\", \"as\": \"total_count\"}]}, {\"calculate\": \"datum.basal_area/datum.total_basal_area\", \"as\": \"relative_dominance\"}, {\"calculate\": \"1/datum.total_count\", \"as\": \"relative_abundance\"}, {\"calculate\": \"datum.relative_dominance + datum.relative_abundance\", \"as\": \"importance_value\"}, {\"joinaggregate\": [{\"op\": \"sum\", \"field\": \"importance_value\", \"as\": \"total_importance\"}]}, {\"calculate\": \"datum.importance_value/datum.total_importance\", \"as\": \"relative_importance\"}, {\"aggregate\": [{\"op\": \"sum\", \"field\": \"relative_importance\", \"as\": \"total_relative_importance\"}, {\"op\": \"sum\", \"field\": \"relative_abundance\", \"as\": \"total_relative_abundance\"}, {\"op\": \"sum\", \"field\": \"relative_dominance\", \"as\": \"total_relative_dominance\"}, {\"op\": \"sum\", \"field\": \"basal_area\", \"as\": \"total_basal_area\"}, {\"op\": \"count\", \"field\": \"tree_id\", \"as\": \"genus_count\"}], \"groupby\": [\"genus_name\"]}, {\"window\": [{\"op\": \"rank\", \"as\": \"importance_rank\"}], \"sort\": [{\"field\": \"total_relative_importance\", \"order\": \"descending\"}]}, {\"filter\": \"datum.importance_rank <= 10\"}], \"width\": 400}, {\"mark\": {\"type\": \"text\", \"baseline\": \"middle\", \"dx\": 30, \"fontStyle\": \"bold\", \"size\": 12}, \"encoding\": {\"stroke\": {\"condition\": {\"value\": \"red\", \"selection\": \"selector001\"}, \"value\": \"black\"}, \"strokeWidth\": {\"value\": 0}, \"text\": {\"field\": \"total_relative_importance\", \"format\": \".2%\", \"type\": \"quantitative\"}, \"tooltip\": [{\"field\": \"genus_name\", \"title\": \"Genus\", \"type\": \"nominal\"}, {\"field\": \"total_relative_importance\", \"format\": \".2%\", \"title\": \"Relative importance\", \"type\": \"quantitative\"}], \"x\": {\"axis\": {\"grid\": false, \"labels\": false, \"ticks\": false}, \"field\": \"total_relative_importance\", \"title\": \"Relative importance\", \"type\": \"quantitative\"}, \"y\": {\"axis\": {\"labelFontSize\": 12, \"labelFontStyle\": \"bold\"}, \"field\": \"genus_name\", \"sort\": \"x\", \"title\": null, \"type\": \"nominal\"}}, \"height\": 300, \"transform\": [{\"filter\": {\"not\": {\"field\": \"tree_id\", \"oneOf\": [43236, 158784, 191867, 188673, 188672, 222821, 85182, 93845, 71403, 128151, 23759, 78588, 51001, 149285, 255981, 264928, 256165, 255911, 270750, 59956, 256819, 256822, 256701, 256717, 256719, 256890, 256653, 256706, 256803, 201285, 227312, 256183, 255969, 256270, 141289, 256896, 267123, 263937, 255068, 257203, 256894, 257095, 257093]}}}, {\"calculate\": \"datum.diameter*0.0254\", \"as\": \"diameter_m\"}, {\"calculate\": \"pow(datum.diameter_m/2,2)*PI\", \"as\": \"basal_area\"}, {\"joinaggregate\": [{\"op\": \"sum\", \"field\": \"basal_area\", \"as\": \"total_basal_area\"}, {\"op\": \"count\", \"field\": \"tree_id\", \"as\": \"total_count\"}]}, {\"calculate\": \"datum.basal_area/datum.total_basal_area\", \"as\": \"relative_dominance\"}, {\"calculate\": \"1/datum.total_count\", \"as\": \"relative_abundance\"}, {\"calculate\": \"datum.relative_dominance + datum.relative_abundance\", \"as\": \"importance_value\"}, {\"joinaggregate\": [{\"op\": \"sum\", \"field\": \"importance_value\", \"as\": \"total_importance\"}]}, {\"calculate\": \"datum.importance_value/datum.total_importance\", \"as\": \"relative_importance\"}, {\"aggregate\": [{\"op\": \"sum\", \"field\": \"relative_importance\", \"as\": \"total_relative_importance\"}, {\"op\": \"sum\", \"field\": \"relative_abundance\", \"as\": \"total_relative_abundance\"}, {\"op\": \"sum\", \"field\": \"relative_dominance\", \"as\": \"total_relative_dominance\"}, {\"op\": \"sum\", \"field\": \"basal_area\", \"as\": \"total_basal_area\"}, {\"op\": \"count\", \"field\": \"tree_id\", \"as\": \"genus_count\"}], \"groupby\": [\"genus_name\"]}, {\"window\": [{\"op\": \"rank\", \"as\": \"importance_rank\"}], \"sort\": [{\"field\": \"total_relative_importance\", \"order\": \"descending\"}]}, {\"filter\": \"datum.importance_rank <= 10\"}], \"width\": 400}]}], \"data\": {\"url\": \"https://raw.githubusercontent.com/UBC-MDS/exploratory-data-viz/main/data/vancouver_trees.csv\"}, \"title\": {\"text\": \"Vancouver Street Tree Population Contains Two Co-Dominant Genera\", \"align\": \"left\", \"dx\": 20, \"dy\": -20, \"fontSize\": 20, \"subtitle\": \"Genera Prunus and Acer both show an over 4-fold greater importance value than the next leading genus due to high abundance\"}, \"$schema\": \"https://vega.github.io/schema/vega-lite/v4.17.0.json\"}, {\"mode\": \"vega-lite\"});\n</script>",
      "application/papermill.record/text/plain": "alt.HConcatChart(...)"
     },
     "metadata": {
      "scrapbook": {
       "mime_prefix": "application/papermill.record/",
       "name": "tree_population_importance"
      }
     },
     "output_type": "display_data"
    }
   ],
   "source": [
    "# Create genus multi select\n",
    "genus_click = alt.selection_multi(\n",
    "    fields=[\"genus_name\"],\n",
    "    init=[ # Initialize top 3 genera\n",
    "        {\"genus_name\": \"PRUNUS\"},\n",
    "        {\"genus_name\": \"ACER\"},\n",
    "        {\"genus_name\": \"QUERCUS\"},\n",
    "    ],  \n",
    "    empty=\"none\",\n",
    ")\n",
    "\n",
    "# Create genus importance bar chart\n",
    "genus_importance_bar = (\n",
    "    base_calc_chart.mark_bar(color=\"#54a24b\", size=20)\n",
    "    .transform_aggregate(  # Sum base calculations by genus, count individuals in each genus\n",
    "        total_relative_importance=\"sum(relative_importance)\",\n",
    "        total_relative_abundance=\"sum(relative_abundance)\",\n",
    "        total_relative_dominance=\"sum(relative_dominance)\",\n",
    "        total_basal_area=\"sum(basal_area)\",\n",
    "        genus_count=\"count(tree_id)\",\n",
    "        groupby=[\"genus_name\"],\n",
    "    )\n",
    "    .transform_window(  # Rank genera by importance in descending order\n",
    "        window=[{\"op\": \"rank\", \"as\": \"importance_rank\"}],\n",
    "        sort=[{\"field\": \"total_relative_importance\", \"order\": \"descending\"}],\n",
    "    )  # Filter to include only top 10 genera\n",
    "    .transform_filter(\"datum.importance_rank <= 10\")\n",
    "    .encode(  # encode genus vs importance\n",
    "        x=alt.X(\n",
    "            \"total_relative_importance:Q\",\n",
    "            title=\"Relative importance\",\n",
    "            axis=alt.Axis(ticks=False, labels=False, grid=False),\n",
    "        ),\n",
    "        y=alt.Y(\n",
    "            \"genus_name:N\",\n",
    "            title=None,\n",
    "            sort=\"x\",\n",
    "            axis=alt.Axis(labelFontStyle=\"bold\", labelFontSize=12),\n",
    "        ),\n",
    "        tooltip=[\n",
    "            alt.Tooltip(\"genus_name:N\", title=\"Genus\"),\n",
    "            alt.Tooltip(\n",
    "                \"total_relative_importance:Q\", title=\"Relative importance\", format=\".2%\"\n",
    "            ),\n",
    "        ],\n",
    "        stroke=alt.condition( # add selection indicator\n",
    "            genus_click, alt.value(\"red\"), alt.value(\"black\")\n",
    "        ),  \n",
    "        strokeWidth=alt.value(4),\n",
    "    )\n",
    "    .properties(height=300, width=400)\n",
    ")\n",
    "\n",
    "# Add text to bar chart\n",
    "genus_importance_bar_text = genus_importance_bar.mark_text(\n",
    "    dx=30, size=12, baseline=\"middle\", fontStyle=\"bold\"\n",
    ").encode(\n",
    "    text=alt.Text(\"total_relative_importance:Q\", format=\".2%\"), strokeWidth=alt.value(0)\n",
    ")\n",
    "\n",
    "# Create dominance vs abundance scatter plot\n",
    "genus_abundance_dominance_scatter = (\n",
    "    genus_importance_bar.mark_circle(color=\"#54a24b\")\n",
    "    .encode(  # encode dominance vs abundance, format axes to %\n",
    "        x=alt.X(\n",
    "            \"total_relative_abundance:Q\",\n",
    "            title=\"Relative abundance\",\n",
    "            axis=alt.Axis(format=\"%\", grid=False),\n",
    "        ),\n",
    "        y=alt.Y(\n",
    "            \"total_relative_dominance:Q\",\n",
    "            title=\"Relative dominance\",\n",
    "            axis=alt.Axis(format=\"%\", grid=False),\n",
    "        ),\n",
    "        size=alt.Size(  # encode genus importance as size\n",
    "            \"total_relative_importance:Q\",\n",
    "            title=\"Relative importance\",\n",
    "            legend=alt.Legend(format=\"%\", orient=\"top-left\"),\n",
    "            scale=alt.Scale(domain=[0, 0.25]),\n",
    "        ),\n",
    "        stroke=alt.condition( # Create selection indicator\n",
    "            genus_click, alt.value(\"red\"), alt.value(\"black\")\n",
    "        ),  \n",
    "        strokeWidth=alt.value(4),\n",
    "        opacity=alt.condition( # decrease opacity of non-selected\n",
    "            genus_click, alt.value(1), alt.value(0.3)\n",
    "        ),\n",
    "        tooltip=[alt.Tooltip('total_relative_abundance:Q', title='Relative abundance', format='.2%'),\n",
    "                 alt.Tooltip('total_relative_dominance:Q', title='Relative dominance', format='.2%'),\n",
    "                 alt.Tooltip('total_relative_importance:Q', title='Relative importance', format='.2%')\n",
    "                ]\n",
    "    )\n",
    "    .properties(height=300, width=300)\n",
    ")\n",
    "\n",
    "# Add text to scatter plot\n",
    "abundance_dominance_text = genus_abundance_dominance_scatter.mark_text(dy=20).encode(\n",
    "    text=alt.condition(  # Show genus name of selected genera\n",
    "        genus_click, alt.Text(\"genus_name:N\"), alt.value(\"\")\n",
    "    ), \n",
    "    size=alt.value(12),\n",
    "    color=alt.value(\"black\"),\n",
    "    strokeWidth=alt.value(0.5),\n",
    "    stroke=alt.value(\"black\"),\n",
    ")\n",
    "\n",
    "# Create mean basal area reference line\n",
    "mean_line = {\n",
    "    \"relative_dominance\": [0, 0.125, 0.25],\n",
    "    \"relative_abundance\": [0, 0.125, 0.25],\n",
    "}\n",
    "mean_line_df = pd.DataFrame.from_dict(mean_line)\n",
    "mean_line_chart = (\n",
    "    alt.Chart(mean_line_df)\n",
    "    .mark_line(color=\"black\", strokeDash=[5, 5])  # Create dashed line\n",
    "    .encode(x=alt.X(\"relative_abundance:Q\"), y=alt.Y(\"relative_dominance:Q\"))\n",
    ")\n",
    "\n",
    "# Add reference line text\n",
    "mean_line_text = (\n",
    "    mean_line_chart.mark_text(angle=315, dy=-10)  # Angle text to be parallel to line\n",
    "    .encode(text=alt.value(\"Mean basal area\"))\n",
    "    .transform_filter(\"datum.relative_dominance == 0.125\")  # Restrict text to center\n",
    ")\n",
    "\n",
    "# Create chart title\n",
    "genus_importance_title = alt.TitleParams(\n",
    "    \"Vancouver Street Tree Population Contains Two Co-Dominant Genera\",\n",
    "    fontSize=20,\n",
    "    subtitle=\"Genera Prunus and Acer both show an over 4-fold greater importance value than the next leading genus due to high abundance\",\n",
    "    dy=-20,\n",
    "    dx=20,\n",
    "    align=\"left\",\n",
    ")\n",
    "\n",
    "# Combine charts, add selection, add title and configure concat chart\n",
    "tree_population_importance = (\n",
    "    (\n",
    "        genus_abundance_dominance_scatter\n",
    "        + abundance_dominance_text\n",
    "        + mean_line_chart\n",
    "        + mean_line_text\n",
    "    ).add_selection(genus_click)\n",
    "    | (genus_importance_bar + genus_importance_bar_text).add_selection(genus_click)\n",
    ").configure_view(strokeWidth=0).properties(title=genus_importance_title)\n",
    "glue(\"tree_population_importance\",tree_population_importance,display=False)"
   ]
  },
  {
   "cell_type": "markdown",
   "id": "dfea7a98-4dc3-4e5f-a5d2-75823afb2ada",
   "metadata": {},
   "source": [
    "```{glue:figure} tree_population_importance\n",
    ":name: \"tree_population_importance\"\n",
    "\n",
    "Top 10 Vancouver Street Tree Genera by Importance Value\n",
    "```"
   ]
  },
  {
   "cell_type": "markdown",
   "id": "c340bdd7",
   "metadata": {},
   "source": [
    "Looking at the scatter plot of {numref}`tree_population_importance`, we can see that genera <i>Prunus</i> and <i>Acer</i> are significantly higher in relative abundance and relative dominance when compared to all other genera. Their proximity to the mean basal area line indicates that their high relative dominance is mainly due to their large quanity in the population and not due to a significantly higher mean diameter of trees within the the genus when compared to the total population.\n",
    "\n",
    "Upon inspection of the bar chart in {numref}`tree_population_importance` we can see that genera <i>Prunus</i> and <i>Acer</i> are co-dominant genera within the Vancouver street tree population, differing by less than 1% in relative importance from each other, but are each over 4 times greater in importance than <i>Quercus</i>, the genera of the next highest importance value in the population.\n",
    "\n",
    "Looking back at the scatter plot in {numref}`tree_population_importance`, we can see that although <i>Acer</i> has a higher relative abundance than <i>Prunus</i>, <i>Prunus'</i> relative dominance is higher than <i>Acer</i> due to a higher mean basal area. The higher mean basal area of <i>Prunus</i> is significant enough to raise its importance value beyond that of <i>Acer</i>. <i>Quercus</i> also has a higher mean basal area when compared to the total population, however, its low abundance decreases its importance to the overall population.\n",
    "\n",
    "Let's take a closer look at the various size classes of trees in these top 3 genera and examine how they contribute to the relative importance of each."
   ]
  },
  {
   "cell_type": "markdown",
   "id": "254c50cf",
   "metadata": {},
   "source": [
    "### How do the different size classes of the top 3 genera contribute to each genus' importance in the population, and is there a difference in this distribution between the genera?"
   ]
  },
  {
   "cell_type": "markdown",
   "id": "6b739646",
   "metadata": {},
   "source": [
    "To perform this analysis, we will group trees into different size classes. We will bin the trees in 2 inch intervals as this is the standard way of classifying trees into size categories according to the US Department of Agriculture's Forest Service Forest Inventory and Analysis glossary (“USDA Forest Service”).\n",
    "\n",
    "We will normalize each distribution to the genus' relative importance value to facilitate comparison between the genera."
   ]
  },
  {
   "cell_type": "code",
   "execution_count": 16,
   "id": "67619a1b",
   "metadata": {
    "tags": [
     "hide-input"
    ]
   },
   "outputs": [
    {
     "data": {
      "application/papermill.record/text/html": "\n<div id=\"altair-viz-691608d004dc493d8ebcfee53dcc89b8\"></div>\n<script type=\"text/javascript\">\n  var VEGA_DEBUG = (typeof VEGA_DEBUG == \"undefined\") ? {} : VEGA_DEBUG;\n  (function(spec, embedOpt){\n    let outputDiv = document.currentScript.previousElementSibling;\n    if (outputDiv.id !== \"altair-viz-691608d004dc493d8ebcfee53dcc89b8\") {\n      outputDiv = document.getElementById(\"altair-viz-691608d004dc493d8ebcfee53dcc89b8\");\n    }\n    const paths = {\n      \"vega\": \"https://cdn.jsdelivr.net/npm//vega@5?noext\",\n      \"vega-lib\": \"https://cdn.jsdelivr.net/npm//vega-lib?noext\",\n      \"vega-lite\": \"https://cdn.jsdelivr.net/npm//vega-lite@4.17.0?noext\",\n      \"vega-embed\": \"https://cdn.jsdelivr.net/npm//vega-embed@6?noext\",\n    };\n\n    function maybeLoadScript(lib, version) {\n      var key = `${lib.replace(\"-\", \"\")}_version`;\n      return (VEGA_DEBUG[key] == version) ?\n        Promise.resolve(paths[lib]) :\n        new Promise(function(resolve, reject) {\n          var s = document.createElement('script');\n          document.getElementsByTagName(\"head\")[0].appendChild(s);\n          s.async = true;\n          s.onload = () => {\n            VEGA_DEBUG[key] = version;\n            return resolve(paths[lib]);\n          };\n          s.onerror = () => reject(`Error loading script: ${paths[lib]}`);\n          s.src = paths[lib];\n        });\n    }\n\n    function showError(err) {\n      outputDiv.innerHTML = `<div class=\"error\" style=\"color:red;\">${err}</div>`;\n      throw err;\n    }\n\n    function displayChart(vegaEmbed) {\n      vegaEmbed(outputDiv, spec, embedOpt)\n        .catch(err => showError(`Javascript Error: ${err.message}<br>This usually means there's a typo in your chart specification. See the javascript console for the full traceback.`));\n    }\n\n    if(typeof define === \"function\" && define.amd) {\n      requirejs.config({paths});\n      require([\"vega-embed\"], displayChart, err => showError(`Error loading script: ${err.message}`));\n    } else {\n      maybeLoadScript(\"vega\", \"5\")\n        .then(() => maybeLoadScript(\"vega-lite\", \"4.17.0\"))\n        .then(() => maybeLoadScript(\"vega-embed\", \"6\"))\n        .catch(showError)\n        .then(() => displayChart(vegaEmbed));\n    }\n  })({\"config\": {\"view\": {\"continuousWidth\": 400, \"continuousHeight\": 300}}, \"hconcat\": [{\"vconcat\": [{\"layer\": [{\"mark\": {\"type\": \"bar\", \"size\": 6, \"strokeWidth\": 2}, \"encoding\": {\"color\": {\"value\": \"#88d27a\"}, \"stroke\": {\"condition\": {\"value\": \"red\", \"selection\": \"selector002\"}, \"value\": \"black\"}, \"tooltip\": [{\"field\": \"diameter_m (binned)\", \"format\": \".2\", \"title\": \"Size class (m):\", \"type\": \"quantitative\"}], \"x\": {\"axis\": {\"bandPosition\": 0}, \"field\": \"diameter_m (binned)\", \"scale\": {\"domain\": [0.05, 1.5]}, \"title\": \"Diameter (m)\", \"type\": \"quantitative\"}, \"y\": {\"aggregate\": \"sum\", \"axis\": {\"format\": \"%\"}, \"field\": \"percent_of_importance\", \"scale\": {\"domain\": [0, 0.15]}, \"stack\": false, \"title\": \"Percent of genus importance\", \"type\": \"quantitative\"}}, \"height\": 150, \"selection\": {\"selector002\": {\"type\": \"single\", \"fields\": [\"diameter_m (binned)\"], \"on\": \"mouseover\", \"empty\": \"none\"}}, \"title\": \"\\\"ACER\\\"\", \"transform\": [{\"filter\": {\"not\": {\"field\": \"tree_id\", \"oneOf\": [43236, 158784, 191867, 188673, 188672, 222821, 85182, 93845, 71403, 128151, 23759, 78588, 51001, 149285, 255981, 264928, 256165, 255911, 270750, 59956, 256819, 256822, 256701, 256717, 256719, 256890, 256653, 256706, 256803, 201285, 227312, 256183, 255969, 256270, 141289, 256896, 267123, 263937, 255068, 257203, 256894, 257095, 257093]}}}, {\"calculate\": \"datum.diameter*0.0254\", \"as\": \"diameter_m\"}, {\"calculate\": \"pow(datum.diameter_m/2,2)*PI\", \"as\": \"basal_area\"}, {\"joinaggregate\": [{\"op\": \"sum\", \"field\": \"basal_area\", \"as\": \"total_basal_area\"}, {\"op\": \"count\", \"field\": \"tree_id\", \"as\": \"total_count\"}]}, {\"calculate\": \"datum.basal_area/datum.total_basal_area\", \"as\": \"relative_dominance\"}, {\"calculate\": \"1/datum.total_count\", \"as\": \"relative_abundance\"}, {\"calculate\": \"datum.relative_dominance + datum.relative_abundance\", \"as\": \"importance_value\"}, {\"joinaggregate\": [{\"op\": \"sum\", \"field\": \"importance_value\", \"as\": \"total_importance\"}]}, {\"calculate\": \"datum.importance_value/datum.total_importance\", \"as\": \"relative_importance\"}, {\"joinaggregate\": [{\"op\": \"sum\", \"field\": \"relative_importance\", \"as\": \"total_relative_importance\"}], \"groupby\": [\"genus_name\"]}, {\"calculate\": \"datum.relative_importance / datum.total_relative_importance\", \"as\": \"percent_of_importance\"}, {\"bin\": {\"step\": 0.05}, \"field\": \"diameter_m\", \"as\": \"diameter_m (binned)\"}, {\"filter\": \"datum.genus_name ==\\\"ACER\\\"\"}], \"width\": 300}, {\"mark\": {\"type\": \"text\", \"dy\": -35, \"size\": 15}, \"encoding\": {\"color\": {\"value\": \"black\"}, \"opacity\": {\"condition\": {\"value\": 1, \"selection\": \"selector002\"}, \"value\": 0}, \"stroke\": {\"value\": \"black\"}, \"text\": {\"aggregate\": \"sum\", \"field\": \"percent_of_importance\", \"format\": \".2%\", \"type\": \"quantitative\"}, \"tooltip\": [{\"field\": \"diameter_m (binned)\", \"format\": \".2\", \"title\": \"Size class (m):\", \"type\": \"quantitative\"}], \"x\": {\"axis\": {\"bandPosition\": 0}, \"field\": \"diameter_m (binned)\", \"scale\": {\"domain\": [0.05, 1.5]}, \"title\": \"Diameter (m)\", \"type\": \"quantitative\"}, \"y\": {\"aggregate\": \"sum\", \"axis\": {\"format\": \"%\"}, \"field\": \"percent_of_importance\", \"scale\": {\"domain\": [0, 0.15]}, \"stack\": false, \"title\": \"Percent of genus importance\", \"type\": \"quantitative\"}}, \"height\": 150, \"title\": \"\\\"ACER\\\"\", \"transform\": [{\"filter\": {\"not\": {\"field\": \"tree_id\", \"oneOf\": [43236, 158784, 191867, 188673, 188672, 222821, 85182, 93845, 71403, 128151, 23759, 78588, 51001, 149285, 255981, 264928, 256165, 255911, 270750, 59956, 256819, 256822, 256701, 256717, 256719, 256890, 256653, 256706, 256803, 201285, 227312, 256183, 255969, 256270, 141289, 256896, 267123, 263937, 255068, 257203, 256894, 257095, 257093]}}}, {\"calculate\": \"datum.diameter*0.0254\", \"as\": \"diameter_m\"}, {\"calculate\": \"pow(datum.diameter_m/2,2)*PI\", \"as\": \"basal_area\"}, {\"joinaggregate\": [{\"op\": \"sum\", \"field\": \"basal_area\", \"as\": \"total_basal_area\"}, {\"op\": \"count\", \"field\": \"tree_id\", \"as\": \"total_count\"}]}, {\"calculate\": \"datum.basal_area/datum.total_basal_area\", \"as\": \"relative_dominance\"}, {\"calculate\": \"1/datum.total_count\", \"as\": \"relative_abundance\"}, {\"calculate\": \"datum.relative_dominance + datum.relative_abundance\", \"as\": \"importance_value\"}, {\"joinaggregate\": [{\"op\": \"sum\", \"field\": \"importance_value\", \"as\": \"total_importance\"}]}, {\"calculate\": \"datum.importance_value/datum.total_importance\", \"as\": \"relative_importance\"}, {\"joinaggregate\": [{\"op\": \"sum\", \"field\": \"relative_importance\", \"as\": \"total_relative_importance\"}], \"groupby\": [\"genus_name\"]}, {\"calculate\": \"datum.relative_importance / datum.total_relative_importance\", \"as\": \"percent_of_importance\"}, {\"bin\": {\"step\": 0.05}, \"field\": \"diameter_m\", \"as\": \"diameter_m (binned)\"}, {\"filter\": \"datum.genus_name ==\\\"ACER\\\"\"}], \"width\": 300}]}, {\"layer\": [{\"mark\": {\"type\": \"bar\", \"size\": 6, \"strokeWidth\": 2}, \"encoding\": {\"color\": {\"value\": \"#54a24b\"}, \"stroke\": {\"condition\": {\"value\": \"red\", \"selection\": \"selector002\"}, \"value\": \"black\"}, \"tooltip\": [{\"field\": \"diameter_m (binned)\", \"format\": \".2\", \"title\": \"Size class (m):\", \"type\": \"quantitative\"}], \"x\": {\"axis\": {\"bandPosition\": 0}, \"field\": \"diameter_m (binned)\", \"scale\": {\"domain\": [0.05, 1.5]}, \"title\": \"Diameter (m)\", \"type\": \"quantitative\"}, \"y\": {\"aggregate\": \"sum\", \"axis\": {\"format\": \"%\"}, \"field\": \"percent_of_importance\", \"scale\": {\"domain\": [0, 0.15]}, \"stack\": false, \"title\": \"Percent of genus importance\", \"type\": \"quantitative\"}}, \"height\": 150, \"selection\": {\"selector002\": {\"type\": \"single\", \"fields\": [\"diameter_m (binned)\"], \"on\": \"mouseover\", \"empty\": \"none\"}}, \"title\": \"\\\"PRUNUS\\\"\", \"transform\": [{\"filter\": {\"not\": {\"field\": \"tree_id\", \"oneOf\": [43236, 158784, 191867, 188673, 188672, 222821, 85182, 93845, 71403, 128151, 23759, 78588, 51001, 149285, 255981, 264928, 256165, 255911, 270750, 59956, 256819, 256822, 256701, 256717, 256719, 256890, 256653, 256706, 256803, 201285, 227312, 256183, 255969, 256270, 141289, 256896, 267123, 263937, 255068, 257203, 256894, 257095, 257093]}}}, {\"calculate\": \"datum.diameter*0.0254\", \"as\": \"diameter_m\"}, {\"calculate\": \"pow(datum.diameter_m/2,2)*PI\", \"as\": \"basal_area\"}, {\"joinaggregate\": [{\"op\": \"sum\", \"field\": \"basal_area\", \"as\": \"total_basal_area\"}, {\"op\": \"count\", \"field\": \"tree_id\", \"as\": \"total_count\"}]}, {\"calculate\": \"datum.basal_area/datum.total_basal_area\", \"as\": \"relative_dominance\"}, {\"calculate\": \"1/datum.total_count\", \"as\": \"relative_abundance\"}, {\"calculate\": \"datum.relative_dominance + datum.relative_abundance\", \"as\": \"importance_value\"}, {\"joinaggregate\": [{\"op\": \"sum\", \"field\": \"importance_value\", \"as\": \"total_importance\"}]}, {\"calculate\": \"datum.importance_value/datum.total_importance\", \"as\": \"relative_importance\"}, {\"joinaggregate\": [{\"op\": \"sum\", \"field\": \"relative_importance\", \"as\": \"total_relative_importance\"}], \"groupby\": [\"genus_name\"]}, {\"calculate\": \"datum.relative_importance / datum.total_relative_importance\", \"as\": \"percent_of_importance\"}, {\"bin\": {\"step\": 0.05}, \"field\": \"diameter_m\", \"as\": \"diameter_m (binned)\"}, {\"filter\": \"datum.genus_name ==\\\"PRUNUS\\\"\"}], \"width\": 300}, {\"mark\": {\"type\": \"text\", \"dy\": -35, \"size\": 15}, \"encoding\": {\"color\": {\"value\": \"black\"}, \"opacity\": {\"condition\": {\"value\": 1, \"selection\": \"selector002\"}, \"value\": 0}, \"stroke\": {\"value\": \"black\"}, \"text\": {\"aggregate\": \"sum\", \"field\": \"percent_of_importance\", \"format\": \".2%\", \"type\": \"quantitative\"}, \"tooltip\": [{\"field\": \"diameter_m (binned)\", \"format\": \".2\", \"title\": \"Size class (m):\", \"type\": \"quantitative\"}], \"x\": {\"axis\": {\"bandPosition\": 0}, \"field\": \"diameter_m (binned)\", \"scale\": {\"domain\": [0.05, 1.5]}, \"title\": \"Diameter (m)\", \"type\": \"quantitative\"}, \"y\": {\"aggregate\": \"sum\", \"axis\": {\"format\": \"%\"}, \"field\": \"percent_of_importance\", \"scale\": {\"domain\": [0, 0.15]}, \"stack\": false, \"title\": \"Percent of genus importance\", \"type\": \"quantitative\"}}, \"height\": 150, \"title\": \"\\\"PRUNUS\\\"\", \"transform\": [{\"filter\": {\"not\": {\"field\": \"tree_id\", \"oneOf\": [43236, 158784, 191867, 188673, 188672, 222821, 85182, 93845, 71403, 128151, 23759, 78588, 51001, 149285, 255981, 264928, 256165, 255911, 270750, 59956, 256819, 256822, 256701, 256717, 256719, 256890, 256653, 256706, 256803, 201285, 227312, 256183, 255969, 256270, 141289, 256896, 267123, 263937, 255068, 257203, 256894, 257095, 257093]}}}, {\"calculate\": \"datum.diameter*0.0254\", \"as\": \"diameter_m\"}, {\"calculate\": \"pow(datum.diameter_m/2,2)*PI\", \"as\": \"basal_area\"}, {\"joinaggregate\": [{\"op\": \"sum\", \"field\": \"basal_area\", \"as\": \"total_basal_area\"}, {\"op\": \"count\", \"field\": \"tree_id\", \"as\": \"total_count\"}]}, {\"calculate\": \"datum.basal_area/datum.total_basal_area\", \"as\": \"relative_dominance\"}, {\"calculate\": \"1/datum.total_count\", \"as\": \"relative_abundance\"}, {\"calculate\": \"datum.relative_dominance + datum.relative_abundance\", \"as\": \"importance_value\"}, {\"joinaggregate\": [{\"op\": \"sum\", \"field\": \"importance_value\", \"as\": \"total_importance\"}]}, {\"calculate\": \"datum.importance_value/datum.total_importance\", \"as\": \"relative_importance\"}, {\"joinaggregate\": [{\"op\": \"sum\", \"field\": \"relative_importance\", \"as\": \"total_relative_importance\"}], \"groupby\": [\"genus_name\"]}, {\"calculate\": \"datum.relative_importance / datum.total_relative_importance\", \"as\": \"percent_of_importance\"}, {\"bin\": {\"step\": 0.05}, \"field\": \"diameter_m\", \"as\": \"diameter_m (binned)\"}, {\"filter\": \"datum.genus_name ==\\\"PRUNUS\\\"\"}], \"width\": 300}]}, {\"layer\": [{\"mark\": {\"type\": \"bar\", \"size\": 6, \"strokeWidth\": 2}, \"encoding\": {\"color\": {\"value\": \"#f2cf5b\"}, \"stroke\": {\"condition\": {\"value\": \"red\", \"selection\": \"selector002\"}, \"value\": \"black\"}, \"tooltip\": [{\"field\": \"diameter_m (binned)\", \"format\": \".2\", \"title\": \"Size class (m):\", \"type\": \"quantitative\"}], \"x\": {\"axis\": {\"bandPosition\": 0}, \"field\": \"diameter_m (binned)\", \"scale\": {\"domain\": [0.05, 1.5]}, \"title\": \"Diameter (m)\", \"type\": \"quantitative\"}, \"y\": {\"aggregate\": \"sum\", \"axis\": {\"format\": \"%\"}, \"field\": \"percent_of_importance\", \"scale\": {\"domain\": [0, 0.15]}, \"stack\": false, \"title\": \"Percent of genus importance\", \"type\": \"quantitative\"}}, \"height\": 150, \"selection\": {\"selector002\": {\"type\": \"single\", \"fields\": [\"diameter_m (binned)\"], \"on\": \"mouseover\", \"empty\": \"none\"}}, \"title\": \"\\\"QUERCUS\\\"\", \"transform\": [{\"filter\": {\"not\": {\"field\": \"tree_id\", \"oneOf\": [43236, 158784, 191867, 188673, 188672, 222821, 85182, 93845, 71403, 128151, 23759, 78588, 51001, 149285, 255981, 264928, 256165, 255911, 270750, 59956, 256819, 256822, 256701, 256717, 256719, 256890, 256653, 256706, 256803, 201285, 227312, 256183, 255969, 256270, 141289, 256896, 267123, 263937, 255068, 257203, 256894, 257095, 257093]}}}, {\"calculate\": \"datum.diameter*0.0254\", \"as\": \"diameter_m\"}, {\"calculate\": \"pow(datum.diameter_m/2,2)*PI\", \"as\": \"basal_area\"}, {\"joinaggregate\": [{\"op\": \"sum\", \"field\": \"basal_area\", \"as\": \"total_basal_area\"}, {\"op\": \"count\", \"field\": \"tree_id\", \"as\": \"total_count\"}]}, {\"calculate\": \"datum.basal_area/datum.total_basal_area\", \"as\": \"relative_dominance\"}, {\"calculate\": \"1/datum.total_count\", \"as\": \"relative_abundance\"}, {\"calculate\": \"datum.relative_dominance + datum.relative_abundance\", \"as\": \"importance_value\"}, {\"joinaggregate\": [{\"op\": \"sum\", \"field\": \"importance_value\", \"as\": \"total_importance\"}]}, {\"calculate\": \"datum.importance_value/datum.total_importance\", \"as\": \"relative_importance\"}, {\"joinaggregate\": [{\"op\": \"sum\", \"field\": \"relative_importance\", \"as\": \"total_relative_importance\"}], \"groupby\": [\"genus_name\"]}, {\"calculate\": \"datum.relative_importance / datum.total_relative_importance\", \"as\": \"percent_of_importance\"}, {\"bin\": {\"step\": 0.05}, \"field\": \"diameter_m\", \"as\": \"diameter_m (binned)\"}, {\"filter\": \"datum.genus_name ==\\\"QUERCUS\\\"\"}], \"width\": 300}, {\"mark\": {\"type\": \"text\", \"dy\": -35, \"size\": 15}, \"encoding\": {\"color\": {\"value\": \"black\"}, \"opacity\": {\"condition\": {\"value\": 1, \"selection\": \"selector002\"}, \"value\": 0}, \"stroke\": {\"value\": \"black\"}, \"text\": {\"aggregate\": \"sum\", \"field\": \"percent_of_importance\", \"format\": \".2%\", \"type\": \"quantitative\"}, \"tooltip\": [{\"field\": \"diameter_m (binned)\", \"format\": \".2\", \"title\": \"Size class (m):\", \"type\": \"quantitative\"}], \"x\": {\"axis\": {\"bandPosition\": 0}, \"field\": \"diameter_m (binned)\", \"scale\": {\"domain\": [0.05, 1.5]}, \"title\": \"Diameter (m)\", \"type\": \"quantitative\"}, \"y\": {\"aggregate\": \"sum\", \"axis\": {\"format\": \"%\"}, \"field\": \"percent_of_importance\", \"scale\": {\"domain\": [0, 0.15]}, \"stack\": false, \"title\": \"Percent of genus importance\", \"type\": \"quantitative\"}}, \"height\": 150, \"title\": \"\\\"QUERCUS\\\"\", \"transform\": [{\"filter\": {\"not\": {\"field\": \"tree_id\", \"oneOf\": [43236, 158784, 191867, 188673, 188672, 222821, 85182, 93845, 71403, 128151, 23759, 78588, 51001, 149285, 255981, 264928, 256165, 255911, 270750, 59956, 256819, 256822, 256701, 256717, 256719, 256890, 256653, 256706, 256803, 201285, 227312, 256183, 255969, 256270, 141289, 256896, 267123, 263937, 255068, 257203, 256894, 257095, 257093]}}}, {\"calculate\": \"datum.diameter*0.0254\", \"as\": \"diameter_m\"}, {\"calculate\": \"pow(datum.diameter_m/2,2)*PI\", \"as\": \"basal_area\"}, {\"joinaggregate\": [{\"op\": \"sum\", \"field\": \"basal_area\", \"as\": \"total_basal_area\"}, {\"op\": \"count\", \"field\": \"tree_id\", \"as\": \"total_count\"}]}, {\"calculate\": \"datum.basal_area/datum.total_basal_area\", \"as\": \"relative_dominance\"}, {\"calculate\": \"1/datum.total_count\", \"as\": \"relative_abundance\"}, {\"calculate\": \"datum.relative_dominance + datum.relative_abundance\", \"as\": \"importance_value\"}, {\"joinaggregate\": [{\"op\": \"sum\", \"field\": \"importance_value\", \"as\": \"total_importance\"}]}, {\"calculate\": \"datum.importance_value/datum.total_importance\", \"as\": \"relative_importance\"}, {\"joinaggregate\": [{\"op\": \"sum\", \"field\": \"relative_importance\", \"as\": \"total_relative_importance\"}], \"groupby\": [\"genus_name\"]}, {\"calculate\": \"datum.relative_importance / datum.total_relative_importance\", \"as\": \"percent_of_importance\"}, {\"bin\": {\"step\": 0.05}, \"field\": \"diameter_m\", \"as\": \"diameter_m (binned)\"}, {\"filter\": \"datum.genus_name ==\\\"QUERCUS\\\"\"}], \"width\": 300}]}]}, {\"layer\": [{\"mark\": \"line\", \"encoding\": {\"stroke\": {\"value\": \"#88d27a\"}, \"strokeWidth\": {\"value\": 4}, \"tooltip\": [{\"field\": \"diameter_m (binned)\", \"format\": \".2\", \"title\": \"Size class (m):\", \"type\": \"quantitative\"}], \"x\": {\"field\": \"diameter_m (binned)\", \"title\": \"Diameter (m)\", \"type\": \"quantitative\"}, \"y\": {\"aggregate\": \"max\", \"axis\": {\"format\": \"%\"}, \"field\": \"cumulative_sum\", \"scale\": {\"domain\": [0, 1]}, \"title\": \"Cumulative percent of genus importance\", \"type\": \"quantitative\"}}, \"height\": 600, \"transform\": [{\"filter\": {\"not\": {\"field\": \"tree_id\", \"oneOf\": [43236, 158784, 191867, 188673, 188672, 222821, 85182, 93845, 71403, 128151, 23759, 78588, 51001, 149285, 255981, 264928, 256165, 255911, 270750, 59956, 256819, 256822, 256701, 256717, 256719, 256890, 256653, 256706, 256803, 201285, 227312, 256183, 255969, 256270, 141289, 256896, 267123, 263937, 255068, 257203, 256894, 257095, 257093]}}}, {\"calculate\": \"datum.diameter*0.0254\", \"as\": \"diameter_m\"}, {\"calculate\": \"pow(datum.diameter_m/2,2)*PI\", \"as\": \"basal_area\"}, {\"joinaggregate\": [{\"op\": \"sum\", \"field\": \"basal_area\", \"as\": \"total_basal_area\"}, {\"op\": \"count\", \"field\": \"tree_id\", \"as\": \"total_count\"}]}, {\"calculate\": \"datum.basal_area/datum.total_basal_area\", \"as\": \"relative_dominance\"}, {\"calculate\": \"1/datum.total_count\", \"as\": \"relative_abundance\"}, {\"calculate\": \"datum.relative_dominance + datum.relative_abundance\", \"as\": \"importance_value\"}, {\"joinaggregate\": [{\"op\": \"sum\", \"field\": \"importance_value\", \"as\": \"total_importance\"}]}, {\"calculate\": \"datum.importance_value/datum.total_importance\", \"as\": \"relative_importance\"}, {\"joinaggregate\": [{\"op\": \"sum\", \"field\": \"relative_importance\", \"as\": \"total_relative_importance\"}], \"groupby\": [\"genus_name\"]}, {\"calculate\": \"datum.relative_importance / datum.total_relative_importance\", \"as\": \"percent_of_importance\"}, {\"bin\": {\"step\": 0.05}, \"field\": \"diameter_m\", \"as\": \"diameter_m (binned)\"}, {\"window\": [{\"op\": \"sum\", \"field\": \"percent_of_importance\", \"as\": \"cumulative_sum\"}], \"frame\": [null, 0], \"groupby\": [\"genus_name\"], \"sort\": [{\"field\": \"diameter_m (binned)\"}]}, {\"filter\": \"datum.genus_name ==\\\"ACER\\\"\"}], \"width\": 450}, {\"mark\": \"line\", \"encoding\": {\"stroke\": {\"value\": \"#54a24b\"}, \"strokeWidth\": {\"value\": 4}, \"tooltip\": [{\"field\": \"diameter_m (binned)\", \"format\": \".2\", \"title\": \"Size class (m):\", \"type\": \"quantitative\"}], \"x\": {\"field\": \"diameter_m (binned)\", \"title\": \"Diameter (m)\", \"type\": \"quantitative\"}, \"y\": {\"aggregate\": \"max\", \"axis\": {\"format\": \"%\"}, \"field\": \"cumulative_sum\", \"scale\": {\"domain\": [0, 1]}, \"title\": \"Cumulative percent of genus importance\", \"type\": \"quantitative\"}}, \"height\": 600, \"transform\": [{\"filter\": {\"not\": {\"field\": \"tree_id\", \"oneOf\": [43236, 158784, 191867, 188673, 188672, 222821, 85182, 93845, 71403, 128151, 23759, 78588, 51001, 149285, 255981, 264928, 256165, 255911, 270750, 59956, 256819, 256822, 256701, 256717, 256719, 256890, 256653, 256706, 256803, 201285, 227312, 256183, 255969, 256270, 141289, 256896, 267123, 263937, 255068, 257203, 256894, 257095, 257093]}}}, {\"calculate\": \"datum.diameter*0.0254\", \"as\": \"diameter_m\"}, {\"calculate\": \"pow(datum.diameter_m/2,2)*PI\", \"as\": \"basal_area\"}, {\"joinaggregate\": [{\"op\": \"sum\", \"field\": \"basal_area\", \"as\": \"total_basal_area\"}, {\"op\": \"count\", \"field\": \"tree_id\", \"as\": \"total_count\"}]}, {\"calculate\": \"datum.basal_area/datum.total_basal_area\", \"as\": \"relative_dominance\"}, {\"calculate\": \"1/datum.total_count\", \"as\": \"relative_abundance\"}, {\"calculate\": \"datum.relative_dominance + datum.relative_abundance\", \"as\": \"importance_value\"}, {\"joinaggregate\": [{\"op\": \"sum\", \"field\": \"importance_value\", \"as\": \"total_importance\"}]}, {\"calculate\": \"datum.importance_value/datum.total_importance\", \"as\": \"relative_importance\"}, {\"joinaggregate\": [{\"op\": \"sum\", \"field\": \"relative_importance\", \"as\": \"total_relative_importance\"}], \"groupby\": [\"genus_name\"]}, {\"calculate\": \"datum.relative_importance / datum.total_relative_importance\", \"as\": \"percent_of_importance\"}, {\"bin\": {\"step\": 0.05}, \"field\": \"diameter_m\", \"as\": \"diameter_m (binned)\"}, {\"window\": [{\"op\": \"sum\", \"field\": \"percent_of_importance\", \"as\": \"cumulative_sum\"}], \"frame\": [null, 0], \"groupby\": [\"genus_name\"], \"sort\": [{\"field\": \"diameter_m (binned)\"}]}, {\"filter\": \"datum.genus_name ==\\\"PRUNUS\\\"\"}], \"width\": 450}, {\"mark\": \"line\", \"encoding\": {\"stroke\": {\"value\": \"#f2cf5b\"}, \"strokeWidth\": {\"value\": 4}, \"tooltip\": [{\"field\": \"diameter_m (binned)\", \"format\": \".2\", \"title\": \"Size class (m):\", \"type\": \"quantitative\"}], \"x\": {\"field\": \"diameter_m (binned)\", \"title\": \"Diameter (m)\", \"type\": \"quantitative\"}, \"y\": {\"aggregate\": \"max\", \"axis\": {\"format\": \"%\"}, \"field\": \"cumulative_sum\", \"scale\": {\"domain\": [0, 1]}, \"title\": \"Cumulative percent of genus importance\", \"type\": \"quantitative\"}}, \"height\": 600, \"transform\": [{\"filter\": {\"not\": {\"field\": \"tree_id\", \"oneOf\": [43236, 158784, 191867, 188673, 188672, 222821, 85182, 93845, 71403, 128151, 23759, 78588, 51001, 149285, 255981, 264928, 256165, 255911, 270750, 59956, 256819, 256822, 256701, 256717, 256719, 256890, 256653, 256706, 256803, 201285, 227312, 256183, 255969, 256270, 141289, 256896, 267123, 263937, 255068, 257203, 256894, 257095, 257093]}}}, {\"calculate\": \"datum.diameter*0.0254\", \"as\": \"diameter_m\"}, {\"calculate\": \"pow(datum.diameter_m/2,2)*PI\", \"as\": \"basal_area\"}, {\"joinaggregate\": [{\"op\": \"sum\", \"field\": \"basal_area\", \"as\": \"total_basal_area\"}, {\"op\": \"count\", \"field\": \"tree_id\", \"as\": \"total_count\"}]}, {\"calculate\": \"datum.basal_area/datum.total_basal_area\", \"as\": \"relative_dominance\"}, {\"calculate\": \"1/datum.total_count\", \"as\": \"relative_abundance\"}, {\"calculate\": \"datum.relative_dominance + datum.relative_abundance\", \"as\": \"importance_value\"}, {\"joinaggregate\": [{\"op\": \"sum\", \"field\": \"importance_value\", \"as\": \"total_importance\"}]}, {\"calculate\": \"datum.importance_value/datum.total_importance\", \"as\": \"relative_importance\"}, {\"joinaggregate\": [{\"op\": \"sum\", \"field\": \"relative_importance\", \"as\": \"total_relative_importance\"}], \"groupby\": [\"genus_name\"]}, {\"calculate\": \"datum.relative_importance / datum.total_relative_importance\", \"as\": \"percent_of_importance\"}, {\"bin\": {\"step\": 0.05}, \"field\": \"diameter_m\", \"as\": \"diameter_m (binned)\"}, {\"window\": [{\"op\": \"sum\", \"field\": \"percent_of_importance\", \"as\": \"cumulative_sum\"}], \"frame\": [null, 0], \"groupby\": [\"genus_name\"], \"sort\": [{\"field\": \"diameter_m (binned)\"}]}, {\"filter\": \"datum.genus_name ==\\\"QUERCUS\\\"\"}], \"width\": 450}, {\"layer\": [{\"mark\": {\"type\": \"circle\", \"size\": 100}, \"encoding\": {\"color\": {\"value\": \"#88d27a\"}, \"opacity\": {\"condition\": {\"value\": 1, \"selection\": \"selector002\"}, \"value\": 0}, \"stroke\": {\"value\": \"black\"}, \"strokeWidth\": {\"value\": 4}, \"tooltip\": [{\"field\": \"diameter_m (binned)\", \"format\": \".2\", \"title\": \"Size class (m):\", \"type\": \"quantitative\"}], \"x\": {\"field\": \"diameter_m (binned)\", \"title\": \"Diameter (m)\", \"type\": \"quantitative\"}, \"y\": {\"aggregate\": \"max\", \"axis\": {\"format\": \"%\"}, \"field\": \"cumulative_sum\", \"scale\": {\"domain\": [0, 1]}, \"title\": \"Cumulative percent of genus importance\", \"type\": \"quantitative\"}}, \"height\": 600, \"transform\": [{\"filter\": {\"not\": {\"field\": \"tree_id\", \"oneOf\": [43236, 158784, 191867, 188673, 188672, 222821, 85182, 93845, 71403, 128151, 23759, 78588, 51001, 149285, 255981, 264928, 256165, 255911, 270750, 59956, 256819, 256822, 256701, 256717, 256719, 256890, 256653, 256706, 256803, 201285, 227312, 256183, 255969, 256270, 141289, 256896, 267123, 263937, 255068, 257203, 256894, 257095, 257093]}}}, {\"calculate\": \"datum.diameter*0.0254\", \"as\": \"diameter_m\"}, {\"calculate\": \"pow(datum.diameter_m/2,2)*PI\", \"as\": \"basal_area\"}, {\"joinaggregate\": [{\"op\": \"sum\", \"field\": \"basal_area\", \"as\": \"total_basal_area\"}, {\"op\": \"count\", \"field\": \"tree_id\", \"as\": \"total_count\"}]}, {\"calculate\": \"datum.basal_area/datum.total_basal_area\", \"as\": \"relative_dominance\"}, {\"calculate\": \"1/datum.total_count\", \"as\": \"relative_abundance\"}, {\"calculate\": \"datum.relative_dominance + datum.relative_abundance\", \"as\": \"importance_value\"}, {\"joinaggregate\": [{\"op\": \"sum\", \"field\": \"importance_value\", \"as\": \"total_importance\"}]}, {\"calculate\": \"datum.importance_value/datum.total_importance\", \"as\": \"relative_importance\"}, {\"joinaggregate\": [{\"op\": \"sum\", \"field\": \"relative_importance\", \"as\": \"total_relative_importance\"}], \"groupby\": [\"genus_name\"]}, {\"calculate\": \"datum.relative_importance / datum.total_relative_importance\", \"as\": \"percent_of_importance\"}, {\"bin\": {\"step\": 0.05}, \"field\": \"diameter_m\", \"as\": \"diameter_m (binned)\"}, {\"window\": [{\"op\": \"sum\", \"field\": \"percent_of_importance\", \"as\": \"cumulative_sum\"}], \"frame\": [null, 0], \"groupby\": [\"genus_name\"], \"sort\": [{\"field\": \"diameter_m (binned)\"}]}, {\"filter\": \"datum.genus_name ==\\\"ACER\\\"\"}], \"width\": 450}, {\"mark\": {\"type\": \"text\", \"dx\": 35, \"fontStyle\": \"bold\", \"size\": 15}, \"encoding\": {\"color\": {\"value\": \"black\"}, \"opacity\": {\"condition\": {\"value\": 1, \"selection\": \"selector002\"}, \"value\": 0}, \"stroke\": {\"value\": \"black\"}, \"strokeWidth\": {\"value\": 0}, \"text\": {\"aggregate\": \"max\", \"field\": \"cumulative_sum\", \"format\": \".2%\", \"type\": \"quantitative\"}, \"tooltip\": [{\"field\": \"diameter_m (binned)\", \"format\": \".2\", \"title\": \"Size class (m):\", \"type\": \"quantitative\"}], \"x\": {\"field\": \"diameter_m (binned)\", \"title\": \"Diameter (m)\", \"type\": \"quantitative\"}, \"y\": {\"aggregate\": \"max\", \"axis\": {\"format\": \"%\"}, \"field\": \"cumulative_sum\", \"scale\": {\"domain\": [0, 1]}, \"title\": \"Cumulative percent of genus importance\", \"type\": \"quantitative\"}}, \"height\": 600, \"transform\": [{\"filter\": {\"not\": {\"field\": \"tree_id\", \"oneOf\": [43236, 158784, 191867, 188673, 188672, 222821, 85182, 93845, 71403, 128151, 23759, 78588, 51001, 149285, 255981, 264928, 256165, 255911, 270750, 59956, 256819, 256822, 256701, 256717, 256719, 256890, 256653, 256706, 256803, 201285, 227312, 256183, 255969, 256270, 141289, 256896, 267123, 263937, 255068, 257203, 256894, 257095, 257093]}}}, {\"calculate\": \"datum.diameter*0.0254\", \"as\": \"diameter_m\"}, {\"calculate\": \"pow(datum.diameter_m/2,2)*PI\", \"as\": \"basal_area\"}, {\"joinaggregate\": [{\"op\": \"sum\", \"field\": \"basal_area\", \"as\": \"total_basal_area\"}, {\"op\": \"count\", \"field\": \"tree_id\", \"as\": \"total_count\"}]}, {\"calculate\": \"datum.basal_area/datum.total_basal_area\", \"as\": \"relative_dominance\"}, {\"calculate\": \"1/datum.total_count\", \"as\": \"relative_abundance\"}, {\"calculate\": \"datum.relative_dominance + datum.relative_abundance\", \"as\": \"importance_value\"}, {\"joinaggregate\": [{\"op\": \"sum\", \"field\": \"importance_value\", \"as\": \"total_importance\"}]}, {\"calculate\": \"datum.importance_value/datum.total_importance\", \"as\": \"relative_importance\"}, {\"joinaggregate\": [{\"op\": \"sum\", \"field\": \"relative_importance\", \"as\": \"total_relative_importance\"}], \"groupby\": [\"genus_name\"]}, {\"calculate\": \"datum.relative_importance / datum.total_relative_importance\", \"as\": \"percent_of_importance\"}, {\"bin\": {\"step\": 0.05}, \"field\": \"diameter_m\", \"as\": \"diameter_m (binned)\"}, {\"window\": [{\"op\": \"sum\", \"field\": \"percent_of_importance\", \"as\": \"cumulative_sum\"}], \"frame\": [null, 0], \"groupby\": [\"genus_name\"], \"sort\": [{\"field\": \"diameter_m (binned)\"}]}, {\"filter\": \"datum.genus_name ==\\\"ACER\\\"\"}], \"width\": 450}, {\"mark\": {\"type\": \"circle\", \"size\": 100}, \"encoding\": {\"color\": {\"value\": \"#54a24b\"}, \"opacity\": {\"condition\": {\"value\": 1, \"selection\": \"selector002\"}, \"value\": 0}, \"stroke\": {\"value\": \"black\"}, \"strokeWidth\": {\"value\": 4}, \"tooltip\": [{\"field\": \"diameter_m (binned)\", \"format\": \".2\", \"title\": \"Size class (m):\", \"type\": \"quantitative\"}], \"x\": {\"field\": \"diameter_m (binned)\", \"title\": \"Diameter (m)\", \"type\": \"quantitative\"}, \"y\": {\"aggregate\": \"max\", \"axis\": {\"format\": \"%\"}, \"field\": \"cumulative_sum\", \"scale\": {\"domain\": [0, 1]}, \"title\": \"Cumulative percent of genus importance\", \"type\": \"quantitative\"}}, \"height\": 600, \"transform\": [{\"filter\": {\"not\": {\"field\": \"tree_id\", \"oneOf\": [43236, 158784, 191867, 188673, 188672, 222821, 85182, 93845, 71403, 128151, 23759, 78588, 51001, 149285, 255981, 264928, 256165, 255911, 270750, 59956, 256819, 256822, 256701, 256717, 256719, 256890, 256653, 256706, 256803, 201285, 227312, 256183, 255969, 256270, 141289, 256896, 267123, 263937, 255068, 257203, 256894, 257095, 257093]}}}, {\"calculate\": \"datum.diameter*0.0254\", \"as\": \"diameter_m\"}, {\"calculate\": \"pow(datum.diameter_m/2,2)*PI\", \"as\": \"basal_area\"}, {\"joinaggregate\": [{\"op\": \"sum\", \"field\": \"basal_area\", \"as\": \"total_basal_area\"}, {\"op\": \"count\", \"field\": \"tree_id\", \"as\": \"total_count\"}]}, {\"calculate\": \"datum.basal_area/datum.total_basal_area\", \"as\": \"relative_dominance\"}, {\"calculate\": \"1/datum.total_count\", \"as\": \"relative_abundance\"}, {\"calculate\": \"datum.relative_dominance + datum.relative_abundance\", \"as\": \"importance_value\"}, {\"joinaggregate\": [{\"op\": \"sum\", \"field\": \"importance_value\", \"as\": \"total_importance\"}]}, {\"calculate\": \"datum.importance_value/datum.total_importance\", \"as\": \"relative_importance\"}, {\"joinaggregate\": [{\"op\": \"sum\", \"field\": \"relative_importance\", \"as\": \"total_relative_importance\"}], \"groupby\": [\"genus_name\"]}, {\"calculate\": \"datum.relative_importance / datum.total_relative_importance\", \"as\": \"percent_of_importance\"}, {\"bin\": {\"step\": 0.05}, \"field\": \"diameter_m\", \"as\": \"diameter_m (binned)\"}, {\"window\": [{\"op\": \"sum\", \"field\": \"percent_of_importance\", \"as\": \"cumulative_sum\"}], \"frame\": [null, 0], \"groupby\": [\"genus_name\"], \"sort\": [{\"field\": \"diameter_m (binned)\"}]}, {\"filter\": \"datum.genus_name ==\\\"PRUNUS\\\"\"}], \"width\": 450}, {\"mark\": {\"type\": \"text\", \"dx\": 35, \"fontStyle\": \"bold\", \"size\": 15}, \"encoding\": {\"color\": {\"value\": \"black\"}, \"opacity\": {\"condition\": {\"value\": 1, \"selection\": \"selector002\"}, \"value\": 0}, \"stroke\": {\"value\": \"black\"}, \"strokeWidth\": {\"value\": 0}, \"text\": {\"aggregate\": \"max\", \"field\": \"cumulative_sum\", \"format\": \".2%\", \"type\": \"quantitative\"}, \"tooltip\": [{\"field\": \"diameter_m (binned)\", \"format\": \".2\", \"title\": \"Size class (m):\", \"type\": \"quantitative\"}], \"x\": {\"field\": \"diameter_m (binned)\", \"title\": \"Diameter (m)\", \"type\": \"quantitative\"}, \"y\": {\"aggregate\": \"max\", \"axis\": {\"format\": \"%\"}, \"field\": \"cumulative_sum\", \"scale\": {\"domain\": [0, 1]}, \"title\": \"Cumulative percent of genus importance\", \"type\": \"quantitative\"}}, \"height\": 600, \"transform\": [{\"filter\": {\"not\": {\"field\": \"tree_id\", \"oneOf\": [43236, 158784, 191867, 188673, 188672, 222821, 85182, 93845, 71403, 128151, 23759, 78588, 51001, 149285, 255981, 264928, 256165, 255911, 270750, 59956, 256819, 256822, 256701, 256717, 256719, 256890, 256653, 256706, 256803, 201285, 227312, 256183, 255969, 256270, 141289, 256896, 267123, 263937, 255068, 257203, 256894, 257095, 257093]}}}, {\"calculate\": \"datum.diameter*0.0254\", \"as\": \"diameter_m\"}, {\"calculate\": \"pow(datum.diameter_m/2,2)*PI\", \"as\": \"basal_area\"}, {\"joinaggregate\": [{\"op\": \"sum\", \"field\": \"basal_area\", \"as\": \"total_basal_area\"}, {\"op\": \"count\", \"field\": \"tree_id\", \"as\": \"total_count\"}]}, {\"calculate\": \"datum.basal_area/datum.total_basal_area\", \"as\": \"relative_dominance\"}, {\"calculate\": \"1/datum.total_count\", \"as\": \"relative_abundance\"}, {\"calculate\": \"datum.relative_dominance + datum.relative_abundance\", \"as\": \"importance_value\"}, {\"joinaggregate\": [{\"op\": \"sum\", \"field\": \"importance_value\", \"as\": \"total_importance\"}]}, {\"calculate\": \"datum.importance_value/datum.total_importance\", \"as\": \"relative_importance\"}, {\"joinaggregate\": [{\"op\": \"sum\", \"field\": \"relative_importance\", \"as\": \"total_relative_importance\"}], \"groupby\": [\"genus_name\"]}, {\"calculate\": \"datum.relative_importance / datum.total_relative_importance\", \"as\": \"percent_of_importance\"}, {\"bin\": {\"step\": 0.05}, \"field\": \"diameter_m\", \"as\": \"diameter_m (binned)\"}, {\"window\": [{\"op\": \"sum\", \"field\": \"percent_of_importance\", \"as\": \"cumulative_sum\"}], \"frame\": [null, 0], \"groupby\": [\"genus_name\"], \"sort\": [{\"field\": \"diameter_m (binned)\"}]}, {\"filter\": \"datum.genus_name ==\\\"PRUNUS\\\"\"}], \"width\": 450}, {\"mark\": {\"type\": \"circle\", \"size\": 100}, \"encoding\": {\"color\": {\"value\": \"#f2cf5b\"}, \"opacity\": {\"condition\": {\"value\": 1, \"selection\": \"selector002\"}, \"value\": 0}, \"stroke\": {\"value\": \"black\"}, \"strokeWidth\": {\"value\": 4}, \"tooltip\": [{\"field\": \"diameter_m (binned)\", \"format\": \".2\", \"title\": \"Size class (m):\", \"type\": \"quantitative\"}], \"x\": {\"field\": \"diameter_m (binned)\", \"title\": \"Diameter (m)\", \"type\": \"quantitative\"}, \"y\": {\"aggregate\": \"max\", \"axis\": {\"format\": \"%\"}, \"field\": \"cumulative_sum\", \"scale\": {\"domain\": [0, 1]}, \"title\": \"Cumulative percent of genus importance\", \"type\": \"quantitative\"}}, \"height\": 600, \"transform\": [{\"filter\": {\"not\": {\"field\": \"tree_id\", \"oneOf\": [43236, 158784, 191867, 188673, 188672, 222821, 85182, 93845, 71403, 128151, 23759, 78588, 51001, 149285, 255981, 264928, 256165, 255911, 270750, 59956, 256819, 256822, 256701, 256717, 256719, 256890, 256653, 256706, 256803, 201285, 227312, 256183, 255969, 256270, 141289, 256896, 267123, 263937, 255068, 257203, 256894, 257095, 257093]}}}, {\"calculate\": \"datum.diameter*0.0254\", \"as\": \"diameter_m\"}, {\"calculate\": \"pow(datum.diameter_m/2,2)*PI\", \"as\": \"basal_area\"}, {\"joinaggregate\": [{\"op\": \"sum\", \"field\": \"basal_area\", \"as\": \"total_basal_area\"}, {\"op\": \"count\", \"field\": \"tree_id\", \"as\": \"total_count\"}]}, {\"calculate\": \"datum.basal_area/datum.total_basal_area\", \"as\": \"relative_dominance\"}, {\"calculate\": \"1/datum.total_count\", \"as\": \"relative_abundance\"}, {\"calculate\": \"datum.relative_dominance + datum.relative_abundance\", \"as\": \"importance_value\"}, {\"joinaggregate\": [{\"op\": \"sum\", \"field\": \"importance_value\", \"as\": \"total_importance\"}]}, {\"calculate\": \"datum.importance_value/datum.total_importance\", \"as\": \"relative_importance\"}, {\"joinaggregate\": [{\"op\": \"sum\", \"field\": \"relative_importance\", \"as\": \"total_relative_importance\"}], \"groupby\": [\"genus_name\"]}, {\"calculate\": \"datum.relative_importance / datum.total_relative_importance\", \"as\": \"percent_of_importance\"}, {\"bin\": {\"step\": 0.05}, \"field\": \"diameter_m\", \"as\": \"diameter_m (binned)\"}, {\"window\": [{\"op\": \"sum\", \"field\": \"percent_of_importance\", \"as\": \"cumulative_sum\"}], \"frame\": [null, 0], \"groupby\": [\"genus_name\"], \"sort\": [{\"field\": \"diameter_m (binned)\"}]}, {\"filter\": \"datum.genus_name ==\\\"QUERCUS\\\"\"}], \"width\": 450}, {\"mark\": {\"type\": \"text\", \"dx\": 35, \"fontStyle\": \"bold\", \"size\": 15}, \"encoding\": {\"color\": {\"value\": \"black\"}, \"opacity\": {\"condition\": {\"value\": 1, \"selection\": \"selector002\"}, \"value\": 0}, \"stroke\": {\"value\": \"black\"}, \"strokeWidth\": {\"value\": 0}, \"text\": {\"aggregate\": \"max\", \"field\": \"cumulative_sum\", \"format\": \".2%\", \"type\": \"quantitative\"}, \"tooltip\": [{\"field\": \"diameter_m (binned)\", \"format\": \".2\", \"title\": \"Size class (m):\", \"type\": \"quantitative\"}], \"x\": {\"field\": \"diameter_m (binned)\", \"title\": \"Diameter (m)\", \"type\": \"quantitative\"}, \"y\": {\"aggregate\": \"max\", \"axis\": {\"format\": \"%\"}, \"field\": \"cumulative_sum\", \"scale\": {\"domain\": [0, 1]}, \"title\": \"Cumulative percent of genus importance\", \"type\": \"quantitative\"}}, \"height\": 600, \"transform\": [{\"filter\": {\"not\": {\"field\": \"tree_id\", \"oneOf\": [43236, 158784, 191867, 188673, 188672, 222821, 85182, 93845, 71403, 128151, 23759, 78588, 51001, 149285, 255981, 264928, 256165, 255911, 270750, 59956, 256819, 256822, 256701, 256717, 256719, 256890, 256653, 256706, 256803, 201285, 227312, 256183, 255969, 256270, 141289, 256896, 267123, 263937, 255068, 257203, 256894, 257095, 257093]}}}, {\"calculate\": \"datum.diameter*0.0254\", \"as\": \"diameter_m\"}, {\"calculate\": \"pow(datum.diameter_m/2,2)*PI\", \"as\": \"basal_area\"}, {\"joinaggregate\": [{\"op\": \"sum\", \"field\": \"basal_area\", \"as\": \"total_basal_area\"}, {\"op\": \"count\", \"field\": \"tree_id\", \"as\": \"total_count\"}]}, {\"calculate\": \"datum.basal_area/datum.total_basal_area\", \"as\": \"relative_dominance\"}, {\"calculate\": \"1/datum.total_count\", \"as\": \"relative_abundance\"}, {\"calculate\": \"datum.relative_dominance + datum.relative_abundance\", \"as\": \"importance_value\"}, {\"joinaggregate\": [{\"op\": \"sum\", \"field\": \"importance_value\", \"as\": \"total_importance\"}]}, {\"calculate\": \"datum.importance_value/datum.total_importance\", \"as\": \"relative_importance\"}, {\"joinaggregate\": [{\"op\": \"sum\", \"field\": \"relative_importance\", \"as\": \"total_relative_importance\"}], \"groupby\": [\"genus_name\"]}, {\"calculate\": \"datum.relative_importance / datum.total_relative_importance\", \"as\": \"percent_of_importance\"}, {\"bin\": {\"step\": 0.05}, \"field\": \"diameter_m\", \"as\": \"diameter_m (binned)\"}, {\"window\": [{\"op\": \"sum\", \"field\": \"percent_of_importance\", \"as\": \"cumulative_sum\"}], \"frame\": [null, 0], \"groupby\": [\"genus_name\"], \"sort\": [{\"field\": \"diameter_m (binned)\"}]}, {\"filter\": \"datum.genus_name ==\\\"QUERCUS\\\"\"}], \"width\": 450}]}]}], \"data\": {\"url\": \"https://raw.githubusercontent.com/UBC-MDS/exploratory-data-viz/main/data/vancouver_trees.csv\"}, \"title\": {\"text\": \"Relative importance value is differentially distributed among tree size classes between top 3 genera\", \"fontSize\": 18, \"subtitle\": \"Acer holds more importance in smaller diameter trees, Quercus in relatively larger diameter trees, while Prunus falls between them\"}, \"$schema\": \"https://vega.github.io/schema/vega-lite/v4.17.0.json\"}, {\"mode\": \"vega-lite\"});\n</script>",
      "application/papermill.record/text/plain": "alt.HConcatChart(...)"
     },
     "metadata": {
      "scrapbook": {
       "mime_prefix": "application/papermill.record/",
       "name": "importance_value_dist"
      }
     },
     "output_type": "display_data"
    }
   ],
   "source": [
    "top_3_genus = {'\"ACER\"': \"#88d27a\", '\"PRUNUS\"': \"#54a24b\", '\"QUERCUS\"': \"#f2cf5b\"}\n",
    "\n",
    "# Create hover selection\n",
    "size_hover = alt.selection_single(\n",
    "    fields=[\"diameter_m (binned)\"], on=\"mouseover\", empty=\"none\"\n",
    ")\n",
    "\n",
    "\n",
    "size_importance = (\n",
    "    base_calc_chart.transform_joinaggregate(  # Calculate % contribution of each tree to genus importance\n",
    "        total_relative_importance=\"sum(relative_importance)\", groupby=[\"genus_name\"]\n",
    "    )\n",
    "    .transform_calculate(\n",
    "        percent_of_importance=\"datum.relative_importance / datum.total_relative_importance\"\n",
    "    )  # Bin trees in 5cm size classes\n",
    "    .transform_bin(\n",
    "        \"diameter_m (binned)\", \"diameter_m\", bin=alt.Bin(step=0.05),\n",
    "    )  # Encode % of genus importance vs binned diameter\n",
    "    .mark_bar(strokeWidth=2, size=6)\n",
    "    .encode(\n",
    "        x=alt.X(\n",
    "            \"diameter_m (binned):Q\",\n",
    "            scale=alt.Scale(domain=[0.05, 1.5]),\n",
    "            axis=alt.Axis(bandPosition=0),\n",
    "            title=\"Diameter (m)\",\n",
    "        ),\n",
    "        y=alt.Y(\n",
    "            \"sum(percent_of_importance):Q\",\n",
    "            scale=alt.Scale(domain=[0, 0.15]),\n",
    "            axis=alt.Axis(format=\"%\"),\n",
    "            title=\"Percent of genus importance\",\n",
    "            stack=False,\n",
    "        ),  # Add hover indicator\n",
    "        stroke=alt.condition(size_hover, alt.value(\"red\"), alt.value(\"black\")),\n",
    "        tooltip=[\n",
    "            alt.Tooltip(\"diameter_m (binned):Q\", title=\"Size class (m):\", format=\".2\",)\n",
    "        ],\n",
    "    )\n",
    "    .properties(height=150, width=300)\n",
    ")\n",
    "\n",
    "# Create blank v-concat chart\n",
    "histograms = alt.VConcatChart()\n",
    "\n",
    "# Create charts of top 3 genera through iteration of top 3 dictionary\n",
    "for genus, genus_color in top_3_genus.items():\n",
    "    new_histogram = (\n",
    "        size_importance.encode(color=alt.value(genus_color))  # add custom color\n",
    "        .transform_filter(\"datum.genus_name ==\" + genus)  # Filter for genus\n",
    "        .properties(title=genus)\n",
    "    )\n",
    "    new_histogram_text = new_histogram.mark_text(dy=-35, size=15).encode(  # Add % text\n",
    "        text=alt.Text(\"sum(percent_of_importance):Q\", format=\".2%\"),\n",
    "        opacity=alt.condition(\n",
    "            size_hover, alt.value(1), alt.value(0)\n",
    "        ),  # Make text appear on hover\n",
    "        stroke=alt.value(\"black\"),\n",
    "        color=alt.value(\"black\"),\n",
    "    )  # Add new chart to concat chart\n",
    "    histograms = histograms & (\n",
    "        new_histogram + new_histogram_text\n",
    "    )\n",
    "\n",
    "    cumulative_size_importance = (  # Calculate running total of % importance\n",
    "    size_importance.transform_window(\n",
    "        groupby=[\"genus_name\"],\n",
    "        sort=[{\"field\": \"diameter_m (binned)\"}],\n",
    "        frame=[None, 0],\n",
    "        cumulative_sum=\"sum(percent_of_importance)\",\n",
    "    )\n",
    "    .mark_line()\n",
    "    .encode(  # encode running % total vs diameter\n",
    "        x=alt.X(\"diameter_m (binned):Q\", title=\"Diameter (m)\"),\n",
    "        y=alt.Y(\n",
    "            \"max(cumulative_sum):Q\",  # Choose max because not aggregated\n",
    "            axis=alt.Axis(format=\"%\"),\n",
    "            scale=alt.Scale(domain=[0, 1]),\n",
    "            title=\"Cumulative percent of genus importance\",\n",
    "        ),\n",
    "        stroke=alt.value(\"black\"),\n",
    "    )\n",
    "    .properties(height=600, width=450)\n",
    ")\n",
    "\n",
    "# Create blank layer charts\n",
    "cumulative_line = alt.LayerChart()\n",
    "cumulative_point = alt.LayerChart()\n",
    "\n",
    "# Create line and point graphs by interating through top 3 dictionary\n",
    "for genus, genus_color in top_3_genus.items():\n",
    "    new_line = cumulative_size_importance.encode(\n",
    "        stroke=alt.value(genus_color), strokeWidth=alt.value(4)  # Add custom colour\n",
    "    ).transform_filter( # Filter for genus\n",
    "        \"datum.genus_name ==\" + genus\n",
    "    )  \n",
    "    new_point = new_line.mark_circle(size=100).encode(\n",
    "        opacity=alt.condition(  # Show point on hover\n",
    "            size_hover, alt.value(1), alt.value(0)\n",
    "        ), \n",
    "        stroke=alt.value(\"black\"),\n",
    "        color=alt.value(genus_color),\n",
    "    )\n",
    "    new_text = new_point.mark_text(\n",
    "        dx=35, size=15, fontStyle=\"bold\"\n",
    "    ).encode(  # Add cumulative % text\n",
    "        text=alt.Text(\"max(cumulative_sum):Q\", format=\".2%\"),\n",
    "        color=alt.value(\"black\"),\n",
    "        strokeWidth=alt.value(0),\n",
    "    )  # Add to layer charts\n",
    "    cumulative_line += new_line\n",
    "    cumulative_point += new_point\n",
    "    cumulative_point += new_text\n",
    "\n",
    "size_title = alt.TitleParams(\n",
    "    \"Relative importance value is differentially distributed among tree size classes between top 3 genera\",\n",
    "    fontSize=18,\n",
    "    subtitle=\"Acer holds more importance in smaller diameter trees, Quercus in relatively larger diameter trees, while Prunus falls between them\",\n",
    ")\n",
    "importance_value_dist= (\n",
    "    histograms.add_selection(size_hover) | (cumulative_line + cumulative_point)\n",
    ").properties(title=size_title)\n",
    "glue(\"importance_value_dist\",importance_value_dist,display=False)"
   ]
  },
  {
   "cell_type": "markdown",
   "id": "b095d406-f7c1-451c-bf2a-386f937bf5c4",
   "metadata": {},
   "source": [
    "```{glue:figure} importance_value_dist\n",
    ":name: \"importance_value_dist\"\n",
    "\n",
    "Distribution of Importance Value by Size of the Top 3 Genera by Importance\n",
    "```"
   ]
  },
  {
   "cell_type": "markdown",
   "id": "105351eb",
   "metadata": {},
   "source": [
    "Looking at the importance distributions in {numref}`importance_value_dist`, we can see that the top 3 genera have a similar range of size classes, however, the total importance value for each genus is distributed differently between them.\n",
    "\n",
    "The importance value of <i>Acer</i> is held in relatively smaller size classes in comparison to both <i>Prunus</i> and <i>Quercus</i>, showing a right-skewed importance distribution. The line chart of {numref}`importance_value_dist` shows that <i>Acer</i> has the steepest cumulative importance vs diameter slope, with 50% of the genus' importance being held in size classes 0.35m and below, the most being held in the 0.05m class as seen in the <i>Acer</i> distribution of importance of figure 2a.\n",
    "\n",
    "The importance value of <i>Prunus</i> is held in relatively larger size classes than <i>Acer</i> but smaller than <i>Quercus</i>. The importance distribution of <i>Prunus</i> shown in {numref}`importance_value_dist` shows a slighly right-skewed distribution, but less extreme than that of <i>Acer</i>.This corresponds to the line chart of {numref}`importance_value_dist` where <i>Prunus</i> shows a less extreme initial slope between the 0m and 0.2m size classes when compared to <i>Acer</i>. The slope increases significantly between 0.2m and 0.6m, catching up and nearly matching <i>Acer</i> from 0.6m on. 50% of the importance value of <i>Prunus</i> is held in size classes 0.45m and below, the most importance being held in the 0.45m size class, at 9.32%.\n",
    "\n",
    "The importance value of <i>Quercus</i> shows a more even distribution between size classes in comparison to both <i>Prunus</i> and <i>Acer</i> as seen upon inspection of the <i>Quercus</i> importance distribution in figure {numref}`importance_value_dist`. The line chart of {numref}`importance_value_dist` shows that <i>Quercus</i> has the shallowest cumulative importance vs diameter slope of all 3 genera, with 50% of <i>Quercus's</i> importance value being held in size classes 0.6m and below. The 0.6m size class holds the most importance for the <i>Quercus</i> genus at 7.12% of <i>Quercus'</i> total importance."
   ]
  },
  {
   "cell_type": "markdown",
   "id": "e09ec140",
   "metadata": {},
   "source": [
    "### How do Vancouver neighbourhoods compare in terms of importance value density of the street tree population?"
   ]
  },
  {
   "cell_type": "markdown",
   "id": "448c7ae0",
   "metadata": {},
   "source": [
    "To perform this analysis, we will group trees by the neighbourhood in which they are located instead of by genus, and normalize the values to the neighbourhood's total land area to obtain an importance density for the neighbourhood. As we are normalizing to the land area of each neighbourhood, we will using total importance value in our calculation as opposed to relative importance value."
   ]
  },
  {
   "cell_type": "code",
   "execution_count": 17,
   "id": "3ae71ab8",
   "metadata": {
    "tags": [
     "hide-input"
    ]
   },
   "outputs": [
    {
     "data": {
      "application/papermill.record/text/html": "\n<div id=\"altair-viz-4cfea0cd3314407a897fdea5039cd84d\"></div>\n<script type=\"text/javascript\">\n  var VEGA_DEBUG = (typeof VEGA_DEBUG == \"undefined\") ? {} : VEGA_DEBUG;\n  (function(spec, embedOpt){\n    let outputDiv = document.currentScript.previousElementSibling;\n    if (outputDiv.id !== \"altair-viz-4cfea0cd3314407a897fdea5039cd84d\") {\n      outputDiv = document.getElementById(\"altair-viz-4cfea0cd3314407a897fdea5039cd84d\");\n    }\n    const paths = {\n      \"vega\": \"https://cdn.jsdelivr.net/npm//vega@5?noext\",\n      \"vega-lib\": \"https://cdn.jsdelivr.net/npm//vega-lib?noext\",\n      \"vega-lite\": \"https://cdn.jsdelivr.net/npm//vega-lite@4.17.0?noext\",\n      \"vega-embed\": \"https://cdn.jsdelivr.net/npm//vega-embed@6?noext\",\n    };\n\n    function maybeLoadScript(lib, version) {\n      var key = `${lib.replace(\"-\", \"\")}_version`;\n      return (VEGA_DEBUG[key] == version) ?\n        Promise.resolve(paths[lib]) :\n        new Promise(function(resolve, reject) {\n          var s = document.createElement('script');\n          document.getElementsByTagName(\"head\")[0].appendChild(s);\n          s.async = true;\n          s.onload = () => {\n            VEGA_DEBUG[key] = version;\n            return resolve(paths[lib]);\n          };\n          s.onerror = () => reject(`Error loading script: ${paths[lib]}`);\n          s.src = paths[lib];\n        });\n    }\n\n    function showError(err) {\n      outputDiv.innerHTML = `<div class=\"error\" style=\"color:red;\">${err}</div>`;\n      throw err;\n    }\n\n    function displayChart(vegaEmbed) {\n      vegaEmbed(outputDiv, spec, embedOpt)\n        .catch(err => showError(`Javascript Error: ${err.message}<br>This usually means there's a typo in your chart specification. See the javascript console for the full traceback.`));\n    }\n\n    if(typeof define === \"function\" && define.amd) {\n      requirejs.config({paths});\n      require([\"vega-embed\"], displayChart, err => showError(`Error loading script: ${err.message}`));\n    } else {\n      maybeLoadScript(\"vega\", \"5\")\n        .then(() => maybeLoadScript(\"vega-lite\", \"4.17.0\"))\n        .then(() => maybeLoadScript(\"vega-embed\", \"6\"))\n        .catch(showError)\n        .then(() => displayChart(vegaEmbed));\n    }\n  })({\"config\": {\"view\": {\"continuousWidth\": 400, \"continuousHeight\": 300, \"strokeWidth\": 0}}, \"hconcat\": [{\"layer\": [{\"mark\": {\"type\": \"geoshape\", \"stroke\": \"black\", \"strokeWidth\": 4}, \"encoding\": {\"color\": {\"field\": \"importance_per_km2\", \"legend\": {\"format\": \".2\", \"orient\": \"top-left\", \"title\": \"Neighbourhood importance per Km2\"}, \"scale\": {\"scheme\": \"yellowgreen\"}, \"type\": \"quantitative\"}, \"tooltip\": {\"field\": \"neighbourhood_name\", \"title\": \"Neighbourhood\", \"type\": \"nominal\"}}, \"height\": 450, \"projection\": {\"reflectY\": true, \"type\": \"identity\"}, \"selection\": {\"selector003\": {\"type\": \"single\", \"fields\": [\"neighbourhood_name\"], \"on\": \"mouseover\", \"empty\": \"none\"}}, \"transform\": [{\"filter\": {\"not\": {\"field\": \"tree_id\", \"oneOf\": [43236, 158784, 191867, 188673, 188672, 222821, 85182, 93845, 71403, 128151, 23759, 78588, 51001, 149285, 255981, 264928, 256165, 255911, 270750, 59956, 256819, 256822, 256701, 256717, 256719, 256890, 256653, 256706, 256803, 201285, 227312, 256183, 255969, 256270, 141289, 256896, 267123, 263937, 255068, 257203, 256894, 257095, 257093]}}}, {\"calculate\": \"datum.diameter*0.0254\", \"as\": \"diameter_m\"}, {\"calculate\": \"pow(datum.diameter_m/2,2)*PI\", \"as\": \"basal_area\"}, {\"joinaggregate\": [{\"op\": \"sum\", \"field\": \"basal_area\", \"as\": \"total_basal_area\"}, {\"op\": \"count\", \"field\": \"tree_id\", \"as\": \"total_count\"}]}, {\"calculate\": \"datum.basal_area/datum.total_basal_area\", \"as\": \"relative_dominance\"}, {\"calculate\": \"1/datum.total_count\", \"as\": \"relative_abundance\"}, {\"calculate\": \"datum.relative_dominance + datum.relative_abundance\", \"as\": \"importance_value\"}, {\"joinaggregate\": [{\"op\": \"sum\", \"field\": \"importance_value\", \"as\": \"total_importance\"}]}, {\"calculate\": \"datum.importance_value/datum.total_importance\", \"as\": \"relative_importance\"}, {\"lookup\": \"neighbourhood_name\", \"as\": \"geom\", \"from\": {\"data\": {\"url\": \"https://raw.githubusercontent.com/UBC-MDS/exploratory-data-viz/main/data/local-area-boundary.geojson\", \"format\": {\"property\": \"features\", \"type\": \"json\"}}, \"key\": \"properties.name\"}}, {\"aggregate\": [{\"op\": \"sum\", \"field\": \"importance_value\", \"as\": \"neighbourhood_importance\"}, {\"op\": \"median\", \"field\": \"longitude\", \"as\": \"median_longitude\"}, {\"op\": \"median\", \"field\": \"latitude\", \"as\": \"median_latitude\"}], \"groupby\": [\"neighbourhood_name\", \"geom\"]}, {\"lookup\": \"neighbourhood_name\", \"as\": \"land_area_ha\", \"from\": {\"data\": {\"url\": \"https://raw.githubusercontent.com/Daniel-J-Stevens/data-science-toolbox_assignment-8/main/van-trees_book/data/neighbourhood_demographics.csv\"}, \"key\": \"neighbourhood_name\", \"fields\": [\"land_area\"]}}, {\"calculate\": \"datum.geom.geometry\", \"as\": \"geometry\"}, {\"calculate\": \"datum.geom.type\", \"as\": \"type\"}, {\"calculate\": \"0\", \"as\": \"text_x\"}, {\"calculate\": \"datum.land_area_ha/100\", \"as\": \"land_area_km2\"}, {\"calculate\": \"(datum.neighbourhood_importance/datum.land_area_km2)*100\", \"as\": \"importance_per_km2\"}, {\"window\": [{\"op\": \"rank\", \"as\": \"importance_rank\"}], \"sort\": [{\"field\": \"importance_per_km2\", \"order\": \"descending\"}]}], \"width\": 700}, {\"mark\": {\"type\": \"text\", \"fontSize\": 15, \"fontStyle\": \"bold\"}, \"encoding\": {\"latitude\": {\"field\": \"median_latitude\", \"type\": \"quantitative\"}, \"longitude\": {\"field\": \"median_longitude\", \"type\": \"quantitative\"}, \"text\": {\"field\": \"importance_per_km2\", \"format\": \".2\", \"type\": \"quantitative\"}}, \"transform\": [{\"filter\": {\"not\": {\"field\": \"tree_id\", \"oneOf\": [43236, 158784, 191867, 188673, 188672, 222821, 85182, 93845, 71403, 128151, 23759, 78588, 51001, 149285, 255981, 264928, 256165, 255911, 270750, 59956, 256819, 256822, 256701, 256717, 256719, 256890, 256653, 256706, 256803, 201285, 227312, 256183, 255969, 256270, 141289, 256896, 267123, 263937, 255068, 257203, 256894, 257095, 257093]}}}, {\"calculate\": \"datum.diameter*0.0254\", \"as\": \"diameter_m\"}, {\"calculate\": \"pow(datum.diameter_m/2,2)*PI\", \"as\": \"basal_area\"}, {\"joinaggregate\": [{\"op\": \"sum\", \"field\": \"basal_area\", \"as\": \"total_basal_area\"}, {\"op\": \"count\", \"field\": \"tree_id\", \"as\": \"total_count\"}]}, {\"calculate\": \"datum.basal_area/datum.total_basal_area\", \"as\": \"relative_dominance\"}, {\"calculate\": \"1/datum.total_count\", \"as\": \"relative_abundance\"}, {\"calculate\": \"datum.relative_dominance + datum.relative_abundance\", \"as\": \"importance_value\"}, {\"joinaggregate\": [{\"op\": \"sum\", \"field\": \"importance_value\", \"as\": \"total_importance\"}]}, {\"calculate\": \"datum.importance_value/datum.total_importance\", \"as\": \"relative_importance\"}, {\"lookup\": \"neighbourhood_name\", \"as\": \"geom\", \"from\": {\"data\": {\"url\": \"https://raw.githubusercontent.com/UBC-MDS/exploratory-data-viz/main/data/local-area-boundary.geojson\", \"format\": {\"property\": \"features\", \"type\": \"json\"}}, \"key\": \"properties.name\"}}, {\"aggregate\": [{\"op\": \"sum\", \"field\": \"importance_value\", \"as\": \"neighbourhood_importance\"}, {\"op\": \"median\", \"field\": \"longitude\", \"as\": \"median_longitude\"}, {\"op\": \"median\", \"field\": \"latitude\", \"as\": \"median_latitude\"}], \"groupby\": [\"neighbourhood_name\", \"geom\"]}, {\"lookup\": \"neighbourhood_name\", \"as\": \"land_area_ha\", \"from\": {\"data\": {\"url\": \"https://raw.githubusercontent.com/Daniel-J-Stevens/data-science-toolbox_assignment-8/main/van-trees_book/data/neighbourhood_demographics.csv\"}, \"key\": \"neighbourhood_name\", \"fields\": [\"land_area\"]}}, {\"calculate\": \"datum.geom.geometry\", \"as\": \"geometry\"}, {\"calculate\": \"datum.geom.type\", \"as\": \"type\"}, {\"calculate\": \"0\", \"as\": \"text_x\"}, {\"calculate\": \"datum.land_area_ha/100\", \"as\": \"land_area_km2\"}, {\"calculate\": \"(datum.neighbourhood_importance/datum.land_area_km2)*100\", \"as\": \"importance_per_km2\"}, {\"window\": [{\"op\": \"rank\", \"as\": \"importance_rank\"}], \"sort\": [{\"field\": \"importance_per_km2\", \"order\": \"descending\"}]}]}, {\"mark\": {\"type\": \"geoshape\", \"fill\": null, \"strokeWidth\": 4}, \"encoding\": {\"opacity\": {\"condition\": {\"value\": 1, \"selection\": \"selector003\"}, \"value\": 0}, \"stroke\": {\"condition\": {\"value\": \"red\", \"selection\": \"selector003\"}, \"value\": \"black\"}}, \"projection\": {\"reflectY\": true, \"type\": \"identity\"}, \"transform\": [{\"filter\": {\"not\": {\"field\": \"tree_id\", \"oneOf\": [43236, 158784, 191867, 188673, 188672, 222821, 85182, 93845, 71403, 128151, 23759, 78588, 51001, 149285, 255981, 264928, 256165, 255911, 270750, 59956, 256819, 256822, 256701, 256717, 256719, 256890, 256653, 256706, 256803, 201285, 227312, 256183, 255969, 256270, 141289, 256896, 267123, 263937, 255068, 257203, 256894, 257095, 257093]}}}, {\"calculate\": \"datum.diameter*0.0254\", \"as\": \"diameter_m\"}, {\"calculate\": \"pow(datum.diameter_m/2,2)*PI\", \"as\": \"basal_area\"}, {\"joinaggregate\": [{\"op\": \"sum\", \"field\": \"basal_area\", \"as\": \"total_basal_area\"}, {\"op\": \"count\", \"field\": \"tree_id\", \"as\": \"total_count\"}]}, {\"calculate\": \"datum.basal_area/datum.total_basal_area\", \"as\": \"relative_dominance\"}, {\"calculate\": \"1/datum.total_count\", \"as\": \"relative_abundance\"}, {\"calculate\": \"datum.relative_dominance + datum.relative_abundance\", \"as\": \"importance_value\"}, {\"joinaggregate\": [{\"op\": \"sum\", \"field\": \"importance_value\", \"as\": \"total_importance\"}]}, {\"calculate\": \"datum.importance_value/datum.total_importance\", \"as\": \"relative_importance\"}, {\"lookup\": \"neighbourhood_name\", \"as\": \"geom\", \"from\": {\"data\": {\"url\": \"https://raw.githubusercontent.com/UBC-MDS/exploratory-data-viz/main/data/local-area-boundary.geojson\", \"format\": {\"property\": \"features\", \"type\": \"json\"}}, \"key\": \"properties.name\"}}, {\"aggregate\": [{\"op\": \"sum\", \"field\": \"importance_value\", \"as\": \"neighbourhood_importance\"}, {\"op\": \"median\", \"field\": \"longitude\", \"as\": \"median_longitude\"}, {\"op\": \"median\", \"field\": \"latitude\", \"as\": \"median_latitude\"}], \"groupby\": [\"neighbourhood_name\", \"geom\"]}, {\"lookup\": \"neighbourhood_name\", \"as\": \"land_area_ha\", \"from\": {\"data\": {\"url\": \"https://raw.githubusercontent.com/Daniel-J-Stevens/data-science-toolbox_assignment-8/main/van-trees_book/data/neighbourhood_demographics.csv\"}, \"key\": \"neighbourhood_name\", \"fields\": [\"land_area\"]}}, {\"calculate\": \"datum.geom.geometry\", \"as\": \"geometry\"}, {\"calculate\": \"datum.geom.type\", \"as\": \"type\"}, {\"calculate\": \"0\", \"as\": \"text_x\"}, {\"calculate\": \"datum.land_area_ha/100\", \"as\": \"land_area_km2\"}, {\"calculate\": \"(datum.neighbourhood_importance/datum.land_area_km2)*100\", \"as\": \"importance_per_km2\"}, {\"window\": [{\"op\": \"rank\", \"as\": \"importance_rank\"}], \"sort\": [{\"field\": \"importance_per_km2\", \"order\": \"descending\"}]}]}]}, {\"mark\": {\"type\": \"text\", \"align\": \"left\", \"fontSize\": 15, \"fontStyle\": \"bold\"}, \"encoding\": {\"color\": {\"condition\": {\"value\": \"red\", \"selection\": \"selector003\"}, \"value\": \"black\"}, \"text\": {\"field\": \"neighbourhood_name\", \"type\": \"nominal\"}, \"x\": {\"axis\": null, \"field\": \"text_x\", \"scale\": {\"padding\": 5}, \"type\": \"quantitative\"}, \"y\": {\"axis\": null, \"field\": \"importance_rank\", \"type\": \"ordinal\"}}, \"height\": 450, \"selection\": {\"selector003\": {\"type\": \"single\", \"fields\": [\"neighbourhood_name\"], \"on\": \"mouseover\", \"empty\": \"none\"}}, \"title\": {\"text\": \"Neighbourhood\", \"align\": \"left\", \"fontSize\": 20, \"fontStyle\": \"bold\"}, \"transform\": [{\"filter\": {\"not\": {\"field\": \"tree_id\", \"oneOf\": [43236, 158784, 191867, 188673, 188672, 222821, 85182, 93845, 71403, 128151, 23759, 78588, 51001, 149285, 255981, 264928, 256165, 255911, 270750, 59956, 256819, 256822, 256701, 256717, 256719, 256890, 256653, 256706, 256803, 201285, 227312, 256183, 255969, 256270, 141289, 256896, 267123, 263937, 255068, 257203, 256894, 257095, 257093]}}}, {\"calculate\": \"datum.diameter*0.0254\", \"as\": \"diameter_m\"}, {\"calculate\": \"pow(datum.diameter_m/2,2)*PI\", \"as\": \"basal_area\"}, {\"joinaggregate\": [{\"op\": \"sum\", \"field\": \"basal_area\", \"as\": \"total_basal_area\"}, {\"op\": \"count\", \"field\": \"tree_id\", \"as\": \"total_count\"}]}, {\"calculate\": \"datum.basal_area/datum.total_basal_area\", \"as\": \"relative_dominance\"}, {\"calculate\": \"1/datum.total_count\", \"as\": \"relative_abundance\"}, {\"calculate\": \"datum.relative_dominance + datum.relative_abundance\", \"as\": \"importance_value\"}, {\"joinaggregate\": [{\"op\": \"sum\", \"field\": \"importance_value\", \"as\": \"total_importance\"}]}, {\"calculate\": \"datum.importance_value/datum.total_importance\", \"as\": \"relative_importance\"}, {\"lookup\": \"neighbourhood_name\", \"as\": \"geom\", \"from\": {\"data\": {\"url\": \"https://raw.githubusercontent.com/UBC-MDS/exploratory-data-viz/main/data/local-area-boundary.geojson\", \"format\": {\"property\": \"features\", \"type\": \"json\"}}, \"key\": \"properties.name\"}}, {\"aggregate\": [{\"op\": \"sum\", \"field\": \"importance_value\", \"as\": \"neighbourhood_importance\"}, {\"op\": \"median\", \"field\": \"longitude\", \"as\": \"median_longitude\"}, {\"op\": \"median\", \"field\": \"latitude\", \"as\": \"median_latitude\"}], \"groupby\": [\"neighbourhood_name\", \"geom\"]}, {\"lookup\": \"neighbourhood_name\", \"as\": \"land_area_ha\", \"from\": {\"data\": {\"url\": \"https://raw.githubusercontent.com/Daniel-J-Stevens/data-science-toolbox_assignment-8/main/van-trees_book/data/neighbourhood_demographics.csv\"}, \"key\": \"neighbourhood_name\", \"fields\": [\"land_area\"]}}, {\"calculate\": \"datum.geom.geometry\", \"as\": \"geometry\"}, {\"calculate\": \"datum.geom.type\", \"as\": \"type\"}, {\"calculate\": \"0\", \"as\": \"text_x\"}, {\"calculate\": \"datum.land_area_ha/100\", \"as\": \"land_area_km2\"}, {\"calculate\": \"(datum.neighbourhood_importance/datum.land_area_km2)*100\", \"as\": \"importance_per_km2\"}, {\"window\": [{\"op\": \"rank\", \"as\": \"importance_rank\"}], \"sort\": [{\"field\": \"importance_per_km2\", \"order\": \"descending\"}]}], \"width\": 50}], \"data\": {\"url\": \"https://raw.githubusercontent.com/UBC-MDS/exploratory-data-viz/main/data/vancouver_trees.csv\"}, \"title\": {\"text\": \"Vancouver neighbourhoods differ in density of street tree importance\", \"align\": \"left\", \"fontSize\": 20, \"subtitle\": \"Kitsilano holds the most importance value per square kilometer, while Strathcona holds the least\"}, \"$schema\": \"https://vega.github.io/schema/vega-lite/v4.17.0.json\"}, {\"mode\": \"vega-lite\"});\n</script>",
      "application/papermill.record/text/plain": "alt.HConcatChart(...)"
     },
     "metadata": {
      "scrapbook": {
       "mime_prefix": "application/papermill.record/",
       "name": "neighbourhood_importance_density"
      }
     },
     "output_type": "display_data"
    }
   ],
   "source": [
    "# Create hover indicator\n",
    "neighbourhood_hover = alt.selection_single(\n",
    "    fields=[\"neighbourhood_name\"], on=\"mouseover\", empty=\"none\"\n",
    ")\n",
    "\n",
    "# Create base map with calculations\n",
    "neighbourhood_importance_map_base = (\n",
    "    base_calc_chart.transform_lookup(  # Lookup neighbourhood data from geojson\n",
    "        lookup=\"neighbourhood_name\",\n",
    "        from_=alt.LookupData(data_geojson_remote, \"properties.name\"),\n",
    "        as_=\"geom\",\n",
    "    )\n",
    "    .transform_aggregate(  # Find total importance of neighbourhood, median latitude and longitude\n",
    "        neighbourhood_importance=\"sum(importance_value)\",\n",
    "        median_longitude=\"median(longitude):Q\",\n",
    "        median_latitude=\"median(latitude):Q\",\n",
    "        groupby=[\"neighbourhood_name\", \"geom\"],\n",
    "    )\n",
    "    .transform_lookup(  # Lookup land area of neighbourhood\n",
    "        lookup=\"neighbourhood_name\",\n",
    "        from_=alt.LookupData(\n",
    "            data=url_neighbourhood_demographics,\n",
    "            key=\"neighbourhood_name\",\n",
    "            fields=[\"land_area\"],\n",
    "        ),\n",
    "        as_=\"land_area_ha\",\n",
    "    )\n",
    "    .transform_calculate(  # Extract geometry and type from geojson\n",
    "        geometry=\"datum.geom.geometry\",\n",
    "        type=\"datum.geom.type\",\n",
    "        text_x=\"0\",  # X value for neighbourhood list\n",
    "        land_area_km2=\"datum.land_area_ha/100\",  # Convert to Km2\n",
    "        importance_per_km2=\"(datum.neighbourhood_importance/datum.land_area_km2)*100\"\n",
    "    ).transform_window(  # Rank neighbourhood by importance\n",
    "        window=[{\"op\": \"rank\", \"as\": \"importance_rank\"}],\n",
    "        sort=[{\"field\": \"importance_per_km2\", \"order\": \"descending\"}],\n",
    "    )\n",
    ")\n",
    "\n",
    "# Create neighbourhood chloropleth map\n",
    "neighbourhood_importance_map = (\n",
    "    neighbourhood_importance_map_base.mark_geoshape(stroke=\"black\", strokeWidth=4)\n",
    "    .encode(  # Encode importance per Km2 in color channel\n",
    "        color=alt.Color(\n",
    "            \"importance_per_km2:Q\",\n",
    "            scale=alt.Scale(scheme=\"yellowgreen\"),\n",
    "            legend=alt.Legend(\n",
    "                format=\".2\", orient=\"top-left\", title=\"Neighbourhood importance per Km2\"\n",
    "            ),\n",
    "        ),\n",
    "        tooltip=alt.Tooltip(\"neighbourhood_name:N\", title=\"Neighbourhood\"),\n",
    "    )\n",
    "    .project(type=\"identity\", reflectY=True)\n",
    "    .properties(width=700, height=450)\n",
    ")\n",
    "\n",
    "# Create neighbourhood hover overlay\n",
    "neighbourhood_importance_map_overlay = (\n",
    "    neighbourhood_importance_map_base.mark_geoshape(fill=None, strokeWidth=4)\n",
    "    .encode(\n",
    "        stroke=alt.condition(\n",
    "            neighbourhood_hover, alt.value(\"red\"), alt.value(\"black\")\n",
    "        ),  # Red border on hover\n",
    "        opacity=alt.condition(\n",
    "            neighbourhood_hover, alt.value(1), alt.value(0)\n",
    "        ),  # Opacity of 0 when not hovering\n",
    "    )\n",
    "    .project(type=\"identity\", reflectY=True)\n",
    ")\n",
    "\n",
    "# Add text to neighbourhood chloropleth map\n",
    "neighbourhood_importance_text = neighbourhood_importance_map_base.mark_text(\n",
    "    fontStyle=\"bold\", fontSize=15\n",
    ").encode(\n",
    "    latitude=\"median_latitude:Q\",\n",
    "    longitude=\"median_longitude:Q\",\n",
    "    text=alt.Text(\"importance_per_km2:Q\", format=\".2\"),\n",
    ")\n",
    "\n",
    "# Create title for neighbourhood list\n",
    "neighbourhood_rank_text_title = alt.TitleParams(\n",
    "    \"Neighbourhood\", align=\"left\", fontSize=20, fontStyle=\"bold\"\n",
    ")\n",
    "\n",
    "# Create neighbourhood list\n",
    "neighbourhood_rank_text = (\n",
    "    neighbourhood_importance_map_base.mark_text(\n",
    "        fontStyle=\"bold\", fontSize=15, align=\"left\"\n",
    "    )\n",
    "    .encode(\n",
    "        y=alt.Y(\"importance_rank:O\", axis=None),  # Order by importance rank\n",
    "        x=alt.X(\"text_x:Q\", axis=None, scale=alt.Scale(padding=5)),\n",
    "        text=alt.Text(\"neighbourhood_name:N\"),\n",
    "        color=alt.condition(\n",
    "            neighbourhood_hover, alt.value(\"red\"), alt.value(\"black\")\n",
    "        ),  # Highlight in red on hover\n",
    "    )\n",
    "    .properties(width=50, height=450, title=neighbourhood_rank_text_title)\n",
    ")\n",
    "\n",
    "# Create chart title\n",
    "neighbourhood_importance_title = alt.TitleParams(\n",
    "    \"Vancouver neighbourhoods differ in density of street tree importance\",\n",
    "    subtitle=\"Kitsilano holds the most importance value per square kilometer, while Strathcona holds the least\",\n",
    "    align=\"left\",\n",
    "    fontSize=20,\n",
    ")\n",
    "\n",
    "# Create layered map and horizonatally concatenate with rank text\n",
    "neighbourhood_importance_density=(\n",
    "    (\n",
    "        neighbourhood_importance_map\n",
    "        + neighbourhood_importance_text\n",
    "        + neighbourhood_importance_map_overlay\n",
    "    )\n",
    "    | neighbourhood_rank_text.properties(width=50)\n",
    ").add_selection(neighbourhood_hover).configure_view(strokeWidth=0).properties(\n",
    "    title=neighbourhood_importance_title\n",
    ")\n",
    "glue(\"neighbourhood_importance_density\", neighbourhood_importance_density, display=False)"
   ]
  },
  {
   "cell_type": "markdown",
   "id": "53fd6a7c-e745-4d42-9e57-0f8eafcf262d",
   "metadata": {},
   "source": [
    "```{glue:figure} neighbourhood_importance_density\n",
    ":name: \"neighbourhood_importance_density\"\n",
    "\n",
    "Importance density by neighbourhood\n",
    "```"
   ]
  },
  {
   "cell_type": "markdown",
   "id": "a14b9985",
   "metadata": {},
   "source": [
    "Upon inspection of {numref}`neighbourhood_importance_density`, we can see that the density of street tree importance differs between Vancouver neighbourhoods.\n",
    "\n",
    "The neighbourhood of Kitsilano shows the highest importance value density, with a value of 2.5 / Km<sup>2</sup>, followed closely by the West End at 2.4 / Km<sup>2</sup> and Shaughnessy at 2.4 / Km<sup>2</sup>. These neighbourhoods are all contained in the north-western quadrant of the Vancouver area, the West End and Shaughnessy both being neighbourhoods adjacent to Kitsilano.\n",
    "\n",
    "The neighbourhood of Strathcona shows the lowest importance value density of street trees at 0.71 / Km<sup>2</sup>. This is significantly lower than all other neighbourhoods, the closest neighbourhood in terms of importance value density being Kilarney at 1.1 / Km<sup>2</sup>. The surrounding neighbourhoods of Grandview-Woodland and Mount Pleasant show importance value densities of 1.9 / Km<sup>2</sup> and 2.1 / Km<sup>2</sup> respectively, significantly higher than that of Strathcona, while the remaining adjacent neighbourhood of Downtown also shows a higher importance value density of 1.1 / Km<sup>2</sup>, but less markedly so."
   ]
  },
  {
   "cell_type": "markdown",
   "id": "417be697",
   "metadata": {},
   "source": [
    "## Dashboard\n",
    "### How is the relative importance value of the various street tree genera distributed throughout Vancouver?"
   ]
  },
  {
   "cell_type": "code",
   "execution_count": 18,
   "id": "dcf26ecd",
   "metadata": {
    "scrolled": true,
    "tags": []
   },
   "outputs": [
    {
     "data": {
      "application/papermill.record/text/html": "\n<div id=\"altair-viz-07fe72a334a943efac5a80213e550a30\"></div>\n<script type=\"text/javascript\">\n  var VEGA_DEBUG = (typeof VEGA_DEBUG == \"undefined\") ? {} : VEGA_DEBUG;\n  (function(spec, embedOpt){\n    let outputDiv = document.currentScript.previousElementSibling;\n    if (outputDiv.id !== \"altair-viz-07fe72a334a943efac5a80213e550a30\") {\n      outputDiv = document.getElementById(\"altair-viz-07fe72a334a943efac5a80213e550a30\");\n    }\n    const paths = {\n      \"vega\": \"https://cdn.jsdelivr.net/npm//vega@5?noext\",\n      \"vega-lib\": \"https://cdn.jsdelivr.net/npm//vega-lib?noext\",\n      \"vega-lite\": \"https://cdn.jsdelivr.net/npm//vega-lite@4.17.0?noext\",\n      \"vega-embed\": \"https://cdn.jsdelivr.net/npm//vega-embed@6?noext\",\n    };\n\n    function maybeLoadScript(lib, version) {\n      var key = `${lib.replace(\"-\", \"\")}_version`;\n      return (VEGA_DEBUG[key] == version) ?\n        Promise.resolve(paths[lib]) :\n        new Promise(function(resolve, reject) {\n          var s = document.createElement('script');\n          document.getElementsByTagName(\"head\")[0].appendChild(s);\n          s.async = true;\n          s.onload = () => {\n            VEGA_DEBUG[key] = version;\n            return resolve(paths[lib]);\n          };\n          s.onerror = () => reject(`Error loading script: ${paths[lib]}`);\n          s.src = paths[lib];\n        });\n    }\n\n    function showError(err) {\n      outputDiv.innerHTML = `<div class=\"error\" style=\"color:red;\">${err}</div>`;\n      throw err;\n    }\n\n    function displayChart(vegaEmbed) {\n      vegaEmbed(outputDiv, spec, embedOpt)\n        .catch(err => showError(`Javascript Error: ${err.message}<br>This usually means there's a typo in your chart specification. See the javascript console for the full traceback.`));\n    }\n\n    if(typeof define === \"function\" && define.amd) {\n      requirejs.config({paths});\n      require([\"vega-embed\"], displayChart, err => showError(`Error loading script: ${err.message}`));\n    } else {\n      maybeLoadScript(\"vega\", \"5\")\n        .then(() => maybeLoadScript(\"vega-lite\", \"4.17.0\"))\n        .then(() => maybeLoadScript(\"vega-embed\", \"6\"))\n        .catch(showError)\n        .then(() => displayChart(vegaEmbed));\n    }\n  })({\"config\": {\"view\": {\"continuousWidth\": 400, \"continuousHeight\": 300, \"strokeWidth\": 0}}, \"hconcat\": [{\"layer\": [{\"mark\": {\"type\": \"rect\", \"stroke\": \"black\", \"strokeWidth\": 2}, \"encoding\": {\"color\": {\"aggregate\": \"sum\", \"field\": \"relative_importance\", \"legend\": {\"format\": \"%\", \"orient\": \"top\", \"title\": \"Relative importance\"}, \"scale\": {\"scheme\": \"yellowgreen\"}, \"type\": \"quantitative\"}, \"tooltip\": [{\"aggregate\": \"sum\", \"field\": \"relative_importance\", \"format\": \".2%\", \"title\": \"Relative importance\", \"type\": \"quantitative\"}, {\"field\": \"neighbourhood_name\", \"title\": \"Neighbourhood\", \"type\": \"nominal\"}, {\"field\": \"genus_name\", \"title\": \"Genus\", \"type\": \"nominal\"}], \"x\": {\"field\": \"neighbourhood_name\", \"sort\": \"-color\", \"title\": \"Neighbourhood\", \"type\": \"nominal\"}, \"y\": {\"field\": \"genus_name\", \"sort\": \"color\", \"title\": \"Genus\", \"type\": \"nominal\"}}, \"selection\": {\"selector004\": {\"type\": \"multi\", \"fields\": [\"neighbourhood_name\", \"genus_name\"], \"empty\": \"none\", \"init\": [{\"neighbourhood_name\": \"Kensington-Cedar Cottage\", \"genus_name\": \"PRUNUS\"}, {\"neighbourhood_name\": \"Kensington-Cedar Cottage\", \"genus_name\": \"ACER\"}]}, \"selector005\": {\"type\": \"single\", \"fields\": [\"neighbourhood_name\", \"genus_name\"], \"on\": \"mouseover\", \"empty\": \"none\"}, \"selector006\": {\"type\": \"single\", \"fields\": [\"genus_rank\"], \"bind\": {\"input\": \"range\", \"max\": 80, \"min\": 1, \"name\": \"Genus importance rank:\"}, \"init\": {\"genus_rank\": 80}}, \"selector007\": {\"type\": \"single\", \"fields\": [\"genus_name\"], \"bind\": {\"input\": \"select\", \"options\": [\"ABIES\", \"ACER\", \"AESCULUS\", \"AILANTHUS\", \"ALNUS\", \"AMELANCHIER\", \"ARAUCARIA\", \"BETULA\", \"CALOCEDRUS\", \"CARPINUS\", \"CASTANEA\", \"CATALPA\", \"CEDRUS\", \"CELTIS\", \"CERCIDIPHYLLUM\", \"CERCIS\", \"CHAMAECYPARIS\", \"CHITALPA\", \"CLADRASTIS\", \"CORNUS\", \"CORYLUS\", \"CRATAEGUS\", \"CRYPTOMERIA\", \"DAVIDIA\", \"EUCOMMIA\", \"EUONYMUS\", \"FAGUS\", \"FICUS\", \"FRAXINUS\", \"GINKGO\", \"GLEDITSIA\", \"GYMNOCLADUS\", \"HIBISCUS\", \"ILEX\", \"JUGLANS\", \"JUNIPERUS\", \"KOELREUTERIA\", \"LABURNUM\", \"LARIX\", \"LAURUS\", \"LIQUIDAMBAR\", \"LIRIODENDRON\", \"MAGNOLIA\", \"MALUS\", \"MANGLIETIA\", \"MESPILUS\", \"METASEQUOIA\", \"NOTHOFAGUS\", \"NYSSA\", \"OSTRYIA\", \"OXYDENDRUM\", \"PARROTIA\", \"PAULOWNIA\", \"PICEA\", \"PINUS\", \"PLATANUS\", \"POPULUS\", \"PRUNUS\", \"PSEUDOTSUGA\", \"PTELEA\", \"PTEROCARYA\", \"PYRUS\", \"QUERCUS\", \"RHAMNUS\", \"RHUS\", \"ROBINIA\", \"SALIX\", \"SCIADOPITYS\", \"SEQUOIA\", \"SEQUOIADENDRON\", \"SOPHORA\", \"SORBUS\", \"STEWARTIA\", \"STYRAX\", \"SYRINGA\", \"TAXUS\", \"THUJA\", \"TILIA\", \"TRACHYCARPUS\", \"TSUGA\", \"ULMUS\", \"ZELKOVA\"], \"name\": \"Genus selection:\"}}}, \"title\": {\"text\": \"Genus importance distribution by neighbourhood\", \"fontSize\": 15}, \"transform\": [{\"filter\": {\"not\": {\"field\": \"tree_id\", \"oneOf\": [43236, 158784, 191867, 188673, 188672, 222821, 85182, 93845, 71403, 128151, 23759, 78588, 51001, 149285, 255981, 264928, 256165, 255911, 270750, 59956, 256819, 256822, 256701, 256717, 256719, 256890, 256653, 256706, 256803, 201285, 227312, 256183, 255969, 256270, 141289, 256896, 267123, 263937, 255068, 257203, 256894, 257095, 257093]}}}, {\"calculate\": \"datum.diameter*0.0254\", \"as\": \"diameter_m\"}, {\"calculate\": \"pow(datum.diameter_m/2,2)*PI\", \"as\": \"basal_area\"}, {\"joinaggregate\": [{\"op\": \"sum\", \"field\": \"basal_area\", \"as\": \"total_basal_area\"}, {\"op\": \"count\", \"field\": \"tree_id\", \"as\": \"total_count\"}]}, {\"calculate\": \"datum.basal_area/datum.total_basal_area\", \"as\": \"relative_dominance\"}, {\"calculate\": \"1/datum.total_count\", \"as\": \"relative_abundance\"}, {\"calculate\": \"datum.relative_dominance + datum.relative_abundance\", \"as\": \"importance_value\"}, {\"joinaggregate\": [{\"op\": \"sum\", \"field\": \"importance_value\", \"as\": \"total_importance\"}]}, {\"calculate\": \"datum.importance_value/datum.total_importance\", \"as\": \"relative_importance\"}, {\"joinaggregate\": [{\"op\": \"sum\", \"field\": \"relative_importance\", \"as\": \"total_relative_importance\"}], \"groupby\": [\"genus_name\"]}, {\"window\": [{\"op\": \"dense_rank\", \"as\": \"genus_rank\"}], \"sort\": [{\"field\": \"total_relative_importance\", \"order\": \"descending\"}]}, {\"filter\": \"(datum.genus_rank <= selector006.genus_rank)\"}, {\"filter\": {\"selection\": \"selector007\"}}]}, {\"mark\": {\"type\": \"rect\", \"fill\": null, \"strokeWidth\": 4}, \"encoding\": {\"color\": {\"aggregate\": \"sum\", \"field\": \"relative_importance\", \"legend\": {\"format\": \"%\", \"orient\": \"top\", \"title\": \"Relative importance\"}, \"scale\": {\"scheme\": \"yellowgreen\"}, \"type\": \"quantitative\"}, \"opacity\": {\"condition\": {\"value\": 1, \"selection\": \"selector004\"}, \"value\": 0}, \"stroke\": {\"condition\": {\"value\": \"red\", \"selection\": \"selector004\"}, \"value\": \"black\"}, \"tooltip\": [{\"aggregate\": \"sum\", \"field\": \"relative_importance\", \"format\": \".2%\", \"title\": \"Relative importance\", \"type\": \"quantitative\"}, {\"field\": \"neighbourhood_name\", \"title\": \"Neighbourhood\", \"type\": \"nominal\"}, {\"field\": \"genus_name\", \"title\": \"Genus\", \"type\": \"nominal\"}], \"x\": {\"field\": \"neighbourhood_name\", \"sort\": \"-color\", \"title\": \"Neighbourhood\", \"type\": \"nominal\"}, \"y\": {\"field\": \"genus_name\", \"sort\": \"color\", \"title\": \"Genus\", \"type\": \"nominal\"}}, \"title\": {\"text\": \"Genus importance distribution by neighbourhood\", \"fontSize\": 15}, \"transform\": [{\"filter\": {\"not\": {\"field\": \"tree_id\", \"oneOf\": [43236, 158784, 191867, 188673, 188672, 222821, 85182, 93845, 71403, 128151, 23759, 78588, 51001, 149285, 255981, 264928, 256165, 255911, 270750, 59956, 256819, 256822, 256701, 256717, 256719, 256890, 256653, 256706, 256803, 201285, 227312, 256183, 255969, 256270, 141289, 256896, 267123, 263937, 255068, 257203, 256894, 257095, 257093]}}}, {\"calculate\": \"datum.diameter*0.0254\", \"as\": \"diameter_m\"}, {\"calculate\": \"pow(datum.diameter_m/2,2)*PI\", \"as\": \"basal_area\"}, {\"joinaggregate\": [{\"op\": \"sum\", \"field\": \"basal_area\", \"as\": \"total_basal_area\"}, {\"op\": \"count\", \"field\": \"tree_id\", \"as\": \"total_count\"}]}, {\"calculate\": \"datum.basal_area/datum.total_basal_area\", \"as\": \"relative_dominance\"}, {\"calculate\": \"1/datum.total_count\", \"as\": \"relative_abundance\"}, {\"calculate\": \"datum.relative_dominance + datum.relative_abundance\", \"as\": \"importance_value\"}, {\"joinaggregate\": [{\"op\": \"sum\", \"field\": \"importance_value\", \"as\": \"total_importance\"}]}, {\"calculate\": \"datum.importance_value/datum.total_importance\", \"as\": \"relative_importance\"}, {\"joinaggregate\": [{\"op\": \"sum\", \"field\": \"relative_importance\", \"as\": \"total_relative_importance\"}], \"groupby\": [\"genus_name\"]}, {\"window\": [{\"op\": \"dense_rank\", \"as\": \"genus_rank\"}], \"sort\": [{\"field\": \"total_relative_importance\", \"order\": \"descending\"}]}, {\"filter\": \"(datum.genus_rank <= selector006.genus_rank)\"}, {\"filter\": {\"selection\": \"selector007\"}}]}, {\"mark\": {\"type\": \"rect\", \"fill\": null, \"strokeWidth\": 4}, \"encoding\": {\"color\": {\"aggregate\": \"sum\", \"field\": \"relative_importance\", \"legend\": {\"format\": \"%\", \"orient\": \"top\", \"title\": \"Relative importance\"}, \"scale\": {\"scheme\": \"yellowgreen\"}, \"type\": \"quantitative\"}, \"opacity\": {\"condition\": {\"value\": 1, \"selection\": \"selector005\"}, \"value\": 0}, \"stroke\": {\"condition\": {\"value\": \"red\", \"selection\": \"selector005\"}, \"value\": \"black\"}, \"tooltip\": [{\"aggregate\": \"sum\", \"field\": \"relative_importance\", \"format\": \".2%\", \"title\": \"Relative importance\", \"type\": \"quantitative\"}, {\"field\": \"neighbourhood_name\", \"title\": \"Neighbourhood\", \"type\": \"nominal\"}, {\"field\": \"genus_name\", \"title\": \"Genus\", \"type\": \"nominal\"}], \"x\": {\"field\": \"neighbourhood_name\", \"sort\": \"-color\", \"title\": \"Neighbourhood\", \"type\": \"nominal\"}, \"y\": {\"field\": \"genus_name\", \"sort\": \"color\", \"title\": \"Genus\", \"type\": \"nominal\"}}, \"title\": {\"text\": \"Genus importance distribution by neighbourhood\", \"fontSize\": 15}, \"transform\": [{\"filter\": {\"not\": {\"field\": \"tree_id\", \"oneOf\": [43236, 158784, 191867, 188673, 188672, 222821, 85182, 93845, 71403, 128151, 23759, 78588, 51001, 149285, 255981, 264928, 256165, 255911, 270750, 59956, 256819, 256822, 256701, 256717, 256719, 256890, 256653, 256706, 256803, 201285, 227312, 256183, 255969, 256270, 141289, 256896, 267123, 263937, 255068, 257203, 256894, 257095, 257093]}}}, {\"calculate\": \"datum.diameter*0.0254\", \"as\": \"diameter_m\"}, {\"calculate\": \"pow(datum.diameter_m/2,2)*PI\", \"as\": \"basal_area\"}, {\"joinaggregate\": [{\"op\": \"sum\", \"field\": \"basal_area\", \"as\": \"total_basal_area\"}, {\"op\": \"count\", \"field\": \"tree_id\", \"as\": \"total_count\"}]}, {\"calculate\": \"datum.basal_area/datum.total_basal_area\", \"as\": \"relative_dominance\"}, {\"calculate\": \"1/datum.total_count\", \"as\": \"relative_abundance\"}, {\"calculate\": \"datum.relative_dominance + datum.relative_abundance\", \"as\": \"importance_value\"}, {\"joinaggregate\": [{\"op\": \"sum\", \"field\": \"importance_value\", \"as\": \"total_importance\"}]}, {\"calculate\": \"datum.importance_value/datum.total_importance\", \"as\": \"relative_importance\"}, {\"joinaggregate\": [{\"op\": \"sum\", \"field\": \"relative_importance\", \"as\": \"total_relative_importance\"}], \"groupby\": [\"genus_name\"]}, {\"window\": [{\"op\": \"dense_rank\", \"as\": \"genus_rank\"}], \"sort\": [{\"field\": \"total_relative_importance\", \"order\": \"descending\"}]}, {\"filter\": \"(datum.genus_rank <= selector006.genus_rank)\"}, {\"filter\": {\"selection\": \"selector007\"}}]}], \"height\": 700, \"width\": 300}, {\"vconcat\": [{\"layer\": [{\"mark\": {\"type\": \"geoshape\", \"color\": \"white\", \"fill\": null, \"stroke\": \"black\", \"strokeWidth\": 1}, \"encoding\": {}, \"height\": 450, \"projection\": {\"reflectY\": true, \"type\": \"identity\"}, \"selection\": {\"selector006\": {\"type\": \"single\", \"fields\": [\"genus_rank\"], \"bind\": {\"input\": \"range\", \"max\": 80, \"min\": 1, \"name\": \"Genus importance rank:\"}, \"init\": {\"genus_rank\": 80}}}, \"transform\": [{\"filter\": {\"not\": {\"field\": \"tree_id\", \"oneOf\": [43236, 158784, 191867, 188673, 188672, 222821, 85182, 93845, 71403, 128151, 23759, 78588, 51001, 149285, 255981, 264928, 256165, 255911, 270750, 59956, 256819, 256822, 256701, 256717, 256719, 256890, 256653, 256706, 256803, 201285, 227312, 256183, 255969, 256270, 141289, 256896, 267123, 263937, 255068, 257203, 256894, 257095, 257093]}}}, {\"calculate\": \"datum.diameter*0.0254\", \"as\": \"diameter_m\"}, {\"calculate\": \"pow(datum.diameter_m/2,2)*PI\", \"as\": \"basal_area\"}, {\"joinaggregate\": [{\"op\": \"sum\", \"field\": \"basal_area\", \"as\": \"total_basal_area\"}, {\"op\": \"count\", \"field\": \"tree_id\", \"as\": \"total_count\"}]}, {\"calculate\": \"datum.basal_area/datum.total_basal_area\", \"as\": \"relative_dominance\"}, {\"calculate\": \"1/datum.total_count\", \"as\": \"relative_abundance\"}, {\"calculate\": \"datum.relative_dominance + datum.relative_abundance\", \"as\": \"importance_value\"}, {\"joinaggregate\": [{\"op\": \"sum\", \"field\": \"importance_value\", \"as\": \"total_importance\"}]}, {\"calculate\": \"datum.importance_value/datum.total_importance\", \"as\": \"relative_importance\"}, {\"filter\": {\"selection\": \"selector004\"}}, {\"lookup\": \"neighbourhood_name\", \"as\": \"geom\", \"from\": {\"data\": {\"url\": \"https://raw.githubusercontent.com/UBC-MDS/exploratory-data-viz/main/data/local-area-boundary.geojson\", \"format\": {\"property\": \"features\", \"type\": \"json\"}}, \"key\": \"properties.name\"}}, {\"calculate\": \"datum.geom.geometry\", \"as\": \"geometry\"}, {\"calculate\": \"datum.geom.type\", \"as\": \"type\"}]}, {\"mark\": {\"type\": \"circle\", \"color\": \"green\", \"size\": 20, \"strokeWidth\": 0}, \"encoding\": {\"color\": {\"field\": \"genus_name\", \"legend\": {\"title\": \"Genus\"}, \"type\": \"nominal\"}, \"href\": {\"field\": \"tree_url\", \"type\": \"nominal\"}, \"latitude\": {\"field\": \"latitude\", \"type\": \"quantitative\"}, \"longitude\": {\"field\": \"longitude\", \"type\": \"quantitative\"}, \"tooltip\": [{\"field\": \"tree_id\", \"title\": \"Tree ID\", \"type\": \"nominal\"}, {\"field\": \"genus_name\", \"title\": \"Genus\", \"type\": \"nominal\"}, {\"field\": \"diameter_m\", \"format\": \".2\", \"title\": \"Diameter (m)\", \"type\": \"quantitative\"}]}, \"selection\": {\"selector004\": {\"type\": \"multi\", \"fields\": [\"neighbourhood_name\", \"genus_name\"], \"empty\": \"none\", \"init\": [{\"neighbourhood_name\": \"Kensington-Cedar Cottage\", \"genus_name\": \"PRUNUS\"}, {\"neighbourhood_name\": \"Kensington-Cedar Cottage\", \"genus_name\": \"ACER\"}]}}, \"transform\": [{\"filter\": {\"not\": {\"field\": \"tree_id\", \"oneOf\": [43236, 158784, 191867, 188673, 188672, 222821, 85182, 93845, 71403, 128151, 23759, 78588, 51001, 149285, 255981, 264928, 256165, 255911, 270750, 59956, 256819, 256822, 256701, 256717, 256719, 256890, 256653, 256706, 256803, 201285, 227312, 256183, 255969, 256270, 141289, 256896, 267123, 263937, 255068, 257203, 256894, 257095, 257093]}}}, {\"calculate\": \"datum.diameter*0.0254\", \"as\": \"diameter_m\"}, {\"calculate\": \"pow(datum.diameter_m/2,2)*PI\", \"as\": \"basal_area\"}, {\"joinaggregate\": [{\"op\": \"sum\", \"field\": \"basal_area\", \"as\": \"total_basal_area\"}, {\"op\": \"count\", \"field\": \"tree_id\", \"as\": \"total_count\"}]}, {\"calculate\": \"datum.basal_area/datum.total_basal_area\", \"as\": \"relative_dominance\"}, {\"calculate\": \"1/datum.total_count\", \"as\": \"relative_abundance\"}, {\"calculate\": \"datum.relative_dominance + datum.relative_abundance\", \"as\": \"importance_value\"}, {\"joinaggregate\": [{\"op\": \"sum\", \"field\": \"importance_value\", \"as\": \"total_importance\"}]}, {\"calculate\": \"datum.importance_value/datum.total_importance\", \"as\": \"relative_importance\"}, {\"filter\": {\"selection\": \"selector004\"}}, {\"calculate\": \"((('https://maps.google.com/?q=' + datum.latitude) + ',') + datum.longitude)\", \"as\": \"tree_url\"}]}], \"title\": {\"text\": \"Neighbourhood Tree Distribution\", \"fontSize\": 15}}, {\"layer\": [{\"mark\": {\"type\": \"geoshape\", \"stroke\": \"black\", \"strokeWidth\": 4}, \"encoding\": {\"color\": {\"value\": \"#54a24b\"}, \"strokeWidth\": {\"value\": 2}, \"tooltip\": {\"field\": \"neighbourhood_name\", \"title\": \"Neighbourhood\", \"type\": \"nominal\"}}, \"height\": 200, \"projection\": {\"reflectY\": true, \"type\": \"identity\"}, \"title\": \"\", \"transform\": [{\"filter\": {\"not\": {\"field\": \"tree_id\", \"oneOf\": [43236, 158784, 191867, 188673, 188672, 222821, 85182, 93845, 71403, 128151, 23759, 78588, 51001, 149285, 255981, 264928, 256165, 255911, 270750, 59956, 256819, 256822, 256701, 256717, 256719, 256890, 256653, 256706, 256803, 201285, 227312, 256183, 255969, 256270, 141289, 256896, 267123, 263937, 255068, 257203, 256894, 257095, 257093]}}}, {\"calculate\": \"datum.diameter*0.0254\", \"as\": \"diameter_m\"}, {\"calculate\": \"pow(datum.diameter_m/2,2)*PI\", \"as\": \"basal_area\"}, {\"joinaggregate\": [{\"op\": \"sum\", \"field\": \"basal_area\", \"as\": \"total_basal_area\"}, {\"op\": \"count\", \"field\": \"tree_id\", \"as\": \"total_count\"}]}, {\"calculate\": \"datum.basal_area/datum.total_basal_area\", \"as\": \"relative_dominance\"}, {\"calculate\": \"1/datum.total_count\", \"as\": \"relative_abundance\"}, {\"calculate\": \"datum.relative_dominance + datum.relative_abundance\", \"as\": \"importance_value\"}, {\"joinaggregate\": [{\"op\": \"sum\", \"field\": \"importance_value\", \"as\": \"total_importance\"}]}, {\"calculate\": \"datum.importance_value/datum.total_importance\", \"as\": \"relative_importance\"}, {\"lookup\": \"neighbourhood_name\", \"as\": \"geom\", \"from\": {\"data\": {\"url\": \"https://raw.githubusercontent.com/UBC-MDS/exploratory-data-viz/main/data/local-area-boundary.geojson\", \"format\": {\"property\": \"features\", \"type\": \"json\"}}, \"key\": \"properties.name\"}}, {\"aggregate\": [{\"op\": \"sum\", \"field\": \"importance_value\", \"as\": \"neighbourhood_importance\"}, {\"op\": \"median\", \"field\": \"longitude\", \"as\": \"median_longitude\"}, {\"op\": \"median\", \"field\": \"latitude\", \"as\": \"median_latitude\"}], \"groupby\": [\"neighbourhood_name\", \"geom\"]}, {\"lookup\": \"neighbourhood_name\", \"as\": \"land_area_ha\", \"from\": {\"data\": {\"url\": \"https://raw.githubusercontent.com/Daniel-J-Stevens/data-science-toolbox_assignment-8/main/van-trees_book/data/neighbourhood_demographics.csv\"}, \"key\": \"neighbourhood_name\", \"fields\": [\"land_area\"]}}, {\"calculate\": \"datum.geom.geometry\", \"as\": \"geometry\"}, {\"calculate\": \"datum.geom.type\", \"as\": \"type\"}, {\"calculate\": \"0\", \"as\": \"text_x\"}, {\"calculate\": \"datum.land_area_ha/100\", \"as\": \"land_area_km2\"}, {\"calculate\": \"(datum.neighbourhood_importance/datum.land_area_km2)*100\", \"as\": \"importance_per_km2\"}, {\"window\": [{\"op\": \"rank\", \"as\": \"importance_rank\"}], \"sort\": [{\"field\": \"importance_per_km2\", \"order\": \"descending\"}]}], \"width\": 400}, {\"mark\": {\"type\": \"geoshape\", \"fill\": null}, \"encoding\": {\"stroke\": {\"value\": \"red\"}, \"strokeWidth\": {\"value\": 4}}, \"height\": 450, \"projection\": {\"reflectY\": true, \"type\": \"identity\"}, \"selection\": {\"selector006\": {\"type\": \"single\", \"fields\": [\"genus_rank\"], \"bind\": {\"input\": \"range\", \"max\": 80, \"min\": 1, \"name\": \"Genus importance rank:\"}, \"init\": {\"genus_rank\": 80}}}, \"transform\": [{\"filter\": {\"not\": {\"field\": \"tree_id\", \"oneOf\": [43236, 158784, 191867, 188673, 188672, 222821, 85182, 93845, 71403, 128151, 23759, 78588, 51001, 149285, 255981, 264928, 256165, 255911, 270750, 59956, 256819, 256822, 256701, 256717, 256719, 256890, 256653, 256706, 256803, 201285, 227312, 256183, 255969, 256270, 141289, 256896, 267123, 263937, 255068, 257203, 256894, 257095, 257093]}}}, {\"calculate\": \"datum.diameter*0.0254\", \"as\": \"diameter_m\"}, {\"calculate\": \"pow(datum.diameter_m/2,2)*PI\", \"as\": \"basal_area\"}, {\"joinaggregate\": [{\"op\": \"sum\", \"field\": \"basal_area\", \"as\": \"total_basal_area\"}, {\"op\": \"count\", \"field\": \"tree_id\", \"as\": \"total_count\"}]}, {\"calculate\": \"datum.basal_area/datum.total_basal_area\", \"as\": \"relative_dominance\"}, {\"calculate\": \"1/datum.total_count\", \"as\": \"relative_abundance\"}, {\"calculate\": \"datum.relative_dominance + datum.relative_abundance\", \"as\": \"importance_value\"}, {\"joinaggregate\": [{\"op\": \"sum\", \"field\": \"importance_value\", \"as\": \"total_importance\"}]}, {\"calculate\": \"datum.importance_value/datum.total_importance\", \"as\": \"relative_importance\"}, {\"filter\": {\"selection\": \"selector004\"}}, {\"lookup\": \"neighbourhood_name\", \"as\": \"geom\", \"from\": {\"data\": {\"url\": \"https://raw.githubusercontent.com/UBC-MDS/exploratory-data-viz/main/data/local-area-boundary.geojson\", \"format\": {\"property\": \"features\", \"type\": \"json\"}}, \"key\": \"properties.name\"}}, {\"calculate\": \"datum.geom.geometry\", \"as\": \"geometry\"}, {\"calculate\": \"datum.geom.type\", \"as\": \"type\"}]}]}], \"resolve\": {\"scale\": {\"x\": \"independent\", \"y\": \"independent\"}}}], \"data\": {\"url\": \"https://raw.githubusercontent.com/UBC-MDS/exploratory-data-viz/main/data/vancouver_trees.csv\"}, \"title\": {\"text\": \"Vancouver Street Tree Genus Importance and Tree Distribution by Neighbourhood\", \"align\": \"left\", \"fontSize\": 20}, \"$schema\": \"https://vega.github.io/schema/vega-lite/v4.17.0.json\"}, {\"mode\": \"vega-lite\"});\n</script>",
      "application/papermill.record/text/plain": "alt.HConcatChart(...)"
     },
     "metadata": {
      "scrapbook": {
       "mime_prefix": "application/papermill.record/",
       "name": "final_dashboard"
      }
     },
     "output_type": "display_data"
    }
   ],
   "source": [
    "# Create selections\n",
    "\n",
    "# Neighbourhood & Genus selectors\n",
    "neighbourhood_genus_filter = alt.selection_multi(\n",
    "    fields=[\"neighbourhood_name\", \"genus_name\"],\n",
    "    empty=\"none\",\n",
    "    init=[\n",
    "        {\"neighbourhood_name\": \"Kensington-Cedar Cottage\", \"genus_name\": \"PRUNUS\"},\n",
    "        {\"neighbourhood_name\": \"Kensington-Cedar Cottage\", \"genus_name\": \"ACER\"},\n",
    "    ],\n",
    ")\n",
    "\n",
    "neighbourhood_genus_hover = alt.selection_single(\n",
    "    fields=[\"neighbourhood_name\", \"genus_name\"], on=\"mouseover\", empty=\"none\"\n",
    ")\n",
    "\n",
    "\n",
    "# Create widgets and bind to selectors\n",
    "\n",
    "# Rank slider\n",
    "rank_slider = alt.binding_range(min=1, max=80, name=\"Genus importance rank:\")\n",
    "\n",
    "select_rank = alt.selection_single(\n",
    "    fields=[\"genus_rank\"], bind=rank_slider, init={\"genus_rank\": 80}\n",
    ")\n",
    "\n",
    "# Genus dropdown\n",
    "genus_name = (\n",
    "    pd.read_csv(\n",
    "        \"https://raw.githubusercontent.com/UBC-MDS/exploratory-data-viz/main/data/vancouver_trees.csv\",\n",
    "        usecols=[\"genus_name\"],\n",
    "    )\n",
    "    .sort_values(by=\"genus_name\")\n",
    "    .loc[:, \"genus_name\"]\n",
    "    .unique()\n",
    ")\n",
    "\n",
    "genus_dropdown = alt.binding_select(options=genus_name, name=\"Genus selection:\")\n",
    "\n",
    "select_genus = alt.selection_single(fields=[\"genus_name\"], bind=genus_dropdown)\n",
    "\n",
    "\n",
    "# Create genus importance by neighbourhood heat map\n",
    "heat_map_title = alt.TitleParams(\n",
    "    \"Genus importance distribution by neighbourhood\", fontSize=15\n",
    ")\n",
    "importance_heat_map = (\n",
    "    base_calc_chart.mark_rect(stroke=\"black\", strokeWidth=2)\n",
    "    .encode(\n",
    "        x=alt.X(\"neighbourhood_name:N\", title=\"Neighbourhood\", sort=\"-color\"),\n",
    "        y=alt.Y(\"genus_name:N\", title=\"Genus\", sort=\"color\"),\n",
    "        color=alt.Color(\n",
    "            \"sum(relative_importance):Q\",\n",
    "            scale=alt.Scale(scheme=\"yellowgreen\"),\n",
    "            legend=alt.Legend(title=\"Relative importance\", format=\"%\", orient=\"top\"),\n",
    "        ),\n",
    "        tooltip=[\n",
    "            alt.Tooltip(\n",
    "                \"sum(relative_importance):Q\", format=\".2%\", title=\"Relative importance\"\n",
    "            ),\n",
    "            alt.Tooltip(\"neighbourhood_name:N\", title=\"Neighbourhood\"),\n",
    "            alt.Tooltip(\"genus_name:N\", title=\"Genus\"),\n",
    "        ],\n",
    "    )\n",
    "    .transform_joinaggregate(\n",
    "        total_relative_importance=\"sum(relative_importance)\", groupby=[\"genus_name\"]\n",
    "    )\n",
    "    .transform_window(\n",
    "        window=[{\"op\": \"dense_rank\", \"as\": \"genus_rank\"}],\n",
    "        sort=[{\"field\": \"total_relative_importance\", \"order\": \"descending\"}],\n",
    "    )\n",
    "    .transform_filter(alt.datum.genus_rank <= select_rank.genus_rank)\n",
    "    .transform_filter(select_genus)\n",
    "    .properties(title=heat_map_title)\n",
    ")\n",
    "\n",
    "heat_map_overlay = importance_heat_map.mark_rect(fill=None, strokeWidth=4).encode(\n",
    "    stroke=alt.condition(\n",
    "        neighbourhood_genus_filter, alt.value(\"red\"), alt.value(\"black\")\n",
    "    ),\n",
    "    opacity=alt.condition(neighbourhood_genus_filter, alt.value(1), alt.value(0)),\n",
    ")\n",
    "\n",
    "heat_map_hover = heat_map_overlay.encode(\n",
    "    stroke=alt.condition(\n",
    "        neighbourhood_genus_hover, alt.value(\"red\"), alt.value(\"black\")\n",
    "    ),\n",
    "    opacity=alt.condition(neighbourhood_genus_hover, alt.value(1), alt.value(0)),\n",
    ")\n",
    "\n",
    "\n",
    "# Create neighbourhood tree distribution detail map\n",
    "\n",
    "neighbourhood_detail_title = alt.TitleParams(\n",
    "    \"Neighbourhood Tree Distribution\", fontSize=15\n",
    ")\n",
    "\n",
    "neighbourhood_map = (\n",
    "    base_calc_chart.transform_filter(neighbourhood_genus_filter)\n",
    "    .transform_lookup(\n",
    "        lookup=\"neighbourhood_name\",\n",
    "        from_=alt.LookupData(data_geojson_remote, \"properties.name\"),\n",
    "        as_=\"geom\",\n",
    "    )\n",
    "    .transform_calculate(geometry=\"datum.geom.geometry\", type=\"datum.geom.type\")\n",
    "    .mark_geoshape(fill=None, stroke=\"black\", strokeWidth=1, color=\"white\")\n",
    "    .encode()\n",
    "    .project(type=\"identity\", reflectY=True)\n",
    "    .properties(height=450)\n",
    ").add_selection(select_rank)\n",
    "\n",
    "tree_distribution = (\n",
    "    base_calc_chart.mark_circle(color=\"green\", strokeWidth=0, size=20)\n",
    "    .transform_filter(neighbourhood_genus_filter)\n",
    "    .transform_calculate(\n",
    "        tree_url=\"https://maps.google.com/?q=\"\n",
    "        + alt.datum.latitude\n",
    "        + \",\"\n",
    "        + alt.datum.longitude\n",
    "    )\n",
    "    .encode(\n",
    "        latitude=\"latitude:Q\",\n",
    "        longitude=\"longitude:Q\",\n",
    "        tooltip=[\n",
    "            alt.Tooltip(\"tree_id:N\", title=\"Tree ID\"),\n",
    "            alt.Tooltip(\"genus_name:N\", title=\"Genus\"),\n",
    "            alt.Tooltip(\"diameter_m:Q\", title=\"Diameter (m)\", format=\".2\"),\n",
    "        ],\n",
    "        color=alt.Color(\"genus_name:N\", legend=alt.Legend(title=\"Genus\")),\n",
    "        href=\"tree_url:N\",\n",
    "    )\n",
    "    .add_selection(neighbourhood_genus_filter)\n",
    ")\n",
    "\n",
    "# Create overview map\n",
    "neighbourhood_overview_overlay = neighbourhood_map.mark_geoshape(fill=None).encode(\n",
    "    stroke=alt.value(\"red\"), strokeWidth=alt.value(4)\n",
    ")\n",
    "\n",
    "neighbourhood_overview = (\n",
    "    neighbourhood_importance_map.encode(\n",
    "        color=alt.value(\"#54a24b\"), strokeWidth=alt.value(2)\n",
    "    ).properties(height=200, width=400, title=\"\")\n",
    "    + neighbourhood_overview_overlay\n",
    ")\n",
    "\n",
    "dashboard_title = alt.TitleParams('Vancouver Street Tree Genus Importance and Tree Distribution by Neighbourhood', \n",
    "                                  fontSize=20, \n",
    "                                  align='left'\n",
    "                                 )\n",
    "final_dashboard = (\n",
    "    (\n",
    "        importance_heat_map.add_selection(neighbourhood_genus_filter)\n",
    "        .add_selection(neighbourhood_genus_hover)\n",
    "        .add_selection(select_rank)\n",
    "        .add_selection(select_genus)\n",
    "        + heat_map_overlay\n",
    "        + heat_map_hover\n",
    "    ).properties(height=700, width=300)\n",
    "    | (\n",
    "        (neighbourhood_map + tree_distribution).properties(title=neighbourhood_detail_title) & (neighbourhood_overview)\n",
    "    ).resolve_scale(x=\"independent\", y=\"independent\")\n",
    ").configure_view(strokeWidth=0).properties(title=dashboard_title)\n",
    "\n",
    "glue(\"final_dashboard\",final_dashboard,display=False)"
   ]
  },
  {
   "cell_type": "markdown",
   "id": "c0c0bdf0-da4d-4579-9087-c83a9cb06ce3",
   "metadata": {},
   "source": [
    "```{glue:figure} final_dashboard\n",
    ":name: \"final_dashboard\"\n",
    "\n",
    "Tree importance distribution by neighbourhood\n",
    "``\n"
   ]
  },
  {
   "cell_type": "code",
   "execution_count": null,
   "id": "dcc0672a-e02a-44e0-8d40-f870c4ba4a46",
   "metadata": {},
   "outputs": [],
   "source": []
  }
 ],
 "metadata": {
  "kernelspec": {
   "display_name": "Python 3 (ipykernel)",
   "language": "python",
   "name": "python3"
  },
  "language_info": {
   "codemirror_mode": {
    "name": "ipython",
    "version": 3
   },
   "file_extension": ".py",
   "mimetype": "text/x-python",
   "name": "python",
   "nbconvert_exporter": "python",
   "pygments_lexer": "ipython3",
   "version": "3.9.13"
  }
 },
 "nbformat": 4,
 "nbformat_minor": 5
}
